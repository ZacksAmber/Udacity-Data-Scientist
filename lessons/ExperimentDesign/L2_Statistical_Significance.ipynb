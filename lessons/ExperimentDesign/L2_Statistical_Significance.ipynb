{
 "cells": [
  {
   "cell_type": "markdown",
   "metadata": {},
   "source": [
    "# Practice: Statistical Significance\n",
    "\n",
    "Let's say that we've collected data for a web-based experiment. In the experiment, we're testing the change in layout of a product information page to see if this affects the proportion of people who click on a button to go to the download page. This experiment has been designed to have a cookie-based diversion, and we record two things from each user: which page version they received, and whether or not they accessed the download page during the data recording period. (We aren't keeping track of any other factors in this example, such as number of pageviews, or time between accessing the page and making the download, that might be of further interest.)\n",
    "\n",
    "Your objective in this notebook is to perform a statistical test on both recorded metrics to see if there is a statistical difference between the two groups."
   ]
  },
  {
   "cell_type": "code",
   "execution_count": 1,
   "metadata": {},
   "outputs": [],
   "source": [
    "# import packages\n",
    "import matplotlib.pyplot as plt\n",
    "import numpy as np\n",
    "import pandas as pd\n",
    "import scipy.stats as stats\n",
    "import seaborn as sns\n",
    "import rpy2.robjects as robjects\n",
    "from IPython.display import Latex, display\n",
    "from statsmodels.stats.proportion import proportions_ztest\n",
    "\n",
    "%matplotlib inline"
   ]
  },
  {
   "cell_type": "code",
   "execution_count": 2,
   "metadata": {},
   "outputs": [
    {
     "data": {
      "text/html": [
       "<div>\n",
       "<style scoped>\n",
       "    .dataframe tbody tr th:only-of-type {\n",
       "        vertical-align: middle;\n",
       "    }\n",
       "\n",
       "    .dataframe tbody tr th {\n",
       "        vertical-align: top;\n",
       "    }\n",
       "\n",
       "    .dataframe thead th {\n",
       "        text-align: right;\n",
       "    }\n",
       "</style>\n",
       "<table border=\"1\" class=\"dataframe\">\n",
       "  <thead>\n",
       "    <tr style=\"text-align: right;\">\n",
       "      <th></th>\n",
       "      <th>condition</th>\n",
       "      <th>click</th>\n",
       "    </tr>\n",
       "  </thead>\n",
       "  <tbody>\n",
       "    <tr>\n",
       "      <th>0</th>\n",
       "      <td>1</td>\n",
       "      <td>0</td>\n",
       "    </tr>\n",
       "    <tr>\n",
       "      <th>1</th>\n",
       "      <td>0</td>\n",
       "      <td>0</td>\n",
       "    </tr>\n",
       "    <tr>\n",
       "      <th>2</th>\n",
       "      <td>0</td>\n",
       "      <td>0</td>\n",
       "    </tr>\n",
       "    <tr>\n",
       "      <th>3</th>\n",
       "      <td>1</td>\n",
       "      <td>1</td>\n",
       "    </tr>\n",
       "    <tr>\n",
       "      <th>4</th>\n",
       "      <td>1</td>\n",
       "      <td>0</td>\n",
       "    </tr>\n",
       "    <tr>\n",
       "      <th>5</th>\n",
       "      <td>1</td>\n",
       "      <td>0</td>\n",
       "    </tr>\n",
       "    <tr>\n",
       "      <th>6</th>\n",
       "      <td>0</td>\n",
       "      <td>0</td>\n",
       "    </tr>\n",
       "    <tr>\n",
       "      <th>7</th>\n",
       "      <td>1</td>\n",
       "      <td>1</td>\n",
       "    </tr>\n",
       "    <tr>\n",
       "      <th>8</th>\n",
       "      <td>0</td>\n",
       "      <td>0</td>\n",
       "    </tr>\n",
       "    <tr>\n",
       "      <th>9</th>\n",
       "      <td>1</td>\n",
       "      <td>0</td>\n",
       "    </tr>\n",
       "  </tbody>\n",
       "</table>\n",
       "</div>"
      ],
      "text/plain": [
       "   condition  click\n",
       "0          1      0\n",
       "1          0      0\n",
       "2          0      0\n",
       "3          1      1\n",
       "4          1      0\n",
       "5          1      0\n",
       "6          0      0\n",
       "7          1      1\n",
       "8          0      0\n",
       "9          1      0"
      ]
     },
     "execution_count": 2,
     "metadata": {},
     "output_type": "execute_result"
    }
   ],
   "source": [
    "# import data\n",
    "data = pd.read_csv(\"data/statistical_significance_data.csv\")\n",
    "data.head(10)"
   ]
  },
  {
   "cell_type": "markdown",
   "metadata": {
    "tags": []
   },
   "source": [
    "In the dataset, the 'condition' column takes a 0 for the control group, and 1 for the experimental group. The 'click' column takes a values of 0 for no click, and 1 for a click.\n",
    "\n",
    "## Checking the Invariant Metric\n",
    "\n",
    "First of all, we should check that the number of visitors assigned to each group is similar. It's important to check the invariant metrics as a prerequisite so that our inferences on the evaluation metrics are founded on solid ground. If we find that the two groups are imbalanced on the invariant metric, then this will require us to look carefully at how the visitors were split so that any sources of bias are accounted for. It's possible that a statistically significant difference in an invariant metric will require us to revise random assignment procedures and re-do data collection.\n",
    "\n",
    "In this case, we want to do a two-sided hypothesis test on the proportion of visitors assigned to one of our conditions. Choosing the control or the experimental condition doesn't matter: you'll get the same result either way. Feel free to use whatever method you'd like: we'll highlight two main avenues below.\n",
    "\n",
    "If you want to take a simulation-based approach, you can simulate the number of visitors that would be assigned to each group for the number of total observations, assuming that we have an expected 50/50 split. Do this many times (200 000 repetitions should provide a good speed-variability balance in this case) and then see in how many simulated cases we get as extreme or more extreme a deviation from 50/50 that we actually observed. Don't forget that, since we have a two-sided test, an extreme case also includes values on the opposite side of 50/50. (e.g. Since simulated outcomes of .48 and lower are considered as being more extreme than an actual observation of 0.48, so too will simulated outcomes of .52 and higher.) The proportion of flagged simulation outcomes gives us a p-value on which to assess our observed proportion. We hope to see a larger p-value, insufficient evidence to reject the null hypothesis.\n",
    "\n",
    "If you want to take an analytic approach, you could use the exact binomial distribution to compute a p-value for the test. The more usual approach, however, is to use the normal distribution approximation. Recall that this is possible thanks to our large sample size and the central limit theorem. To get a precise p-value, you should also perform a \n",
    "continuity correction, either adding or subtracting 0.5 to the total count before computing the area underneath the curve. (e.g. If we had 415 / 850 assigned to the control group, then the normal approximation would take the area to the left of $(415 + 0.5) / 850 = 0.489$ and to the right of $(435 - 0.5) / 850 = 0.511$.)\n",
    "\n",
    "You can check your results by completing the following the workspace and the solution on the following page. You could also try using multiple approaches and seeing if they come up with similar outcomes!"
   ]
  },
  {
   "cell_type": "markdown",
   "metadata": {},
   "source": [
    "- $H_{0}: \\text{The two groups are balanced.}$\n",
    "- $H_{\\alpha}: \\text{The two groups are imblanced.}$\n",
    "\n",
    "- $\\alpha = 0.05$"
   ]
  },
  {
   "cell_type": "markdown",
   "metadata": {
    "tags": []
   },
   "source": [
    "### Analytic Approach"
   ]
  },
  {
   "cell_type": "markdown",
   "metadata": {},
   "source": [
    "Conditions for inference on one sample z-test of proportion\n",
    "\n",
    "- **Random**: The data needs to come from a random sample or randomized experiment.\n",
    "- **Normal**: The sampling distribution of $\\hat p$ needs to be approximately normal — needs at least $10$ expected successes and $10$ expected failures.\n",
    "- **Independent**: Individual observations need to be independent. If sampling without replacement, our sample size shouldn't be more than $10\\%$ of the population."
   ]
  },
  {
   "cell_type": "code",
   "execution_count": 3,
   "metadata": {},
   "outputs": [],
   "source": [
    "# get number of trials and number of 'successes'\n",
    "n_obs = data.shape[0]\n",
    "n_control, n_treatment = data.groupby('condition').size()  # similar to data.groupby('condition').count()"
   ]
  },
  {
   "cell_type": "code",
   "execution_count": 4,
   "metadata": {},
   "outputs": [
    {
     "data": {
      "text/plain": [
       "(-0.5378561975930812, 0.5906763307135386)"
      ]
     },
     "execution_count": 4,
     "metadata": {},
     "output_type": "execute_result"
    }
   ],
   "source": [
    "# One-proportion z test (manually)\n",
    "k, n, p = n_control, n_obs, 0.5  # 491, 999, 0.5\n",
    "p_hat = k / n  # 0.4914914914914915\n",
    "# SE = stats.bernoulli.std(p) / np.sqrt(n)  # 0.015819299929208316\n",
    "SE = np.sqrt(p * (1 - p) / n)  # 0.015819299929208316\n",
    "\n",
    "zstat = (p_hat - p) / SE  # -0.5378561975930812\n",
    "if zstat < 0:\n",
    "    pval = stats.norm.cdf(x=zstat) * 2  # 0.5906763307135386\n",
    "    # OR\n",
    "    # pval = stats.norm(loc=p, scale=SE).cdf(x=p_hat) * 2  # 0.5906763307135386\n",
    "else:\n",
    "    pval = stats.norm.sf(x=zstat) * 2\n",
    "\n",
    "zstat, pval"
   ]
  },
  {
   "cell_type": "code",
   "execution_count": 5,
   "metadata": {},
   "outputs": [
    {
     "data": {
      "text/plain": [
       "(-0.5378561975930812, 0.5906763307135386)"
      ]
     },
     "execution_count": 5,
     "metadata": {},
     "output_type": "execute_result"
    }
   ],
   "source": [
    "# One-proportion z-test\n",
    "k, n, p = n_control, n_obs, 0.5\n",
    "\n",
    "zstat, pval = proportions_ztest(\n",
    "    count=k, nobs=n, value=p, alternative=\"two-sided\", prop_var=p\n",
    ")\n",
    "zstat, pval"
   ]
  },
  {
   "cell_type": "code",
   "execution_count": 6,
   "metadata": {
    "tags": []
   },
   "outputs": [
    {
     "name": "stdout",
     "output_type": "stream",
     "text": [
      "\n",
      "\t1-sample proportions test without continuity correction\n",
      "\n",
      "data:  c(491) out of c(999), null probability 0.5\n",
      "X-squared = 0.28929, df = 1, p-value = 0.5907\n",
      "alternative hypothesis: true p is not equal to 0.5\n",
      "95 percent confidence interval:\n",
      " 0.4605827 0.5224654\n",
      "sample estimates:\n",
      "        p \n",
      "0.4914915 \n",
      "\n",
      "\n"
     ]
    }
   ],
   "source": [
    "# R\n",
    "# Define an R code snippet to run\n",
    "r_code = f'''\n",
    "prop.test(\n",
    "    x=c({k}),\n",
    "    n=c({n}),\n",
    "    p=.5,\n",
    "    alternative=\"two.sided\",\n",
    "    # Note that, by default, the function prop.test() used the Yates continuity correction, \n",
    "    # which is really important if either the expected successes or failures is < 5. \n",
    "    # If you don’t want the correction, use the additional argument correct = FALSE in prop.test() function. \n",
    "    # The default value is TRUE. (This option must be set to FALSE to make the test mathematically equivalent to \n",
    "    # the uncorrected z-test of a proportion.)\n",
    "    correct=FALSE\n",
    ")\n",
    "'''\n",
    "\n",
    "# Run the R code\n",
    "print(robjects.r(r_code))"
   ]
  },
  {
   "cell_type": "markdown",
   "metadata": {},
   "source": [
    "Conditions for a goodness-of-fit tests:\n",
    "- **Random**: The data came from a random sample from the population of interest, or a randomized experiment.\n",
    "- **Large counts**: All expected counts are at least $5$. There are no conditions attached to the observed counts.\n",
    "- **Independent**: Individual observations need to be independent. If sampling without replacement, our sample size shouldn't be more than $10\\%$ of the population."
   ]
  },
  {
   "cell_type": "code",
   "execution_count": 7,
   "metadata": {},
   "outputs": [
    {
     "data": {
      "text/plain": [
       "(0.28928928928928926, 0.5906763307135376)"
      ]
     },
     "execution_count": 7,
     "metadata": {},
     "output_type": "execute_result"
    }
   ],
   "source": [
    "# Chi-square goodness-of-fit test (manually)\n",
    "p = np.array([0.5, 0.5])\n",
    "total = n_obs  # 999\n",
    "k = len(p) - 1  # 1\n",
    "expected = p * total  # [499.5, 499.5]\n",
    "observed = np.array([n_control, n_treatment])  # [491, 508]\n",
    "\n",
    "# calculate chi-square statistic manually\n",
    "chisq = np.sum((observed - expected) ** 2 / expected)\n",
    "\n",
    "# calculate p-value by standard chi-square distribution\n",
    "pval = stats.chi2.sf(x=chisq, df=k)\n",
    "\n",
    "chisq, pval"
   ]
  },
  {
   "cell_type": "code",
   "execution_count": 8,
   "metadata": {},
   "outputs": [
    {
     "data": {
      "text/plain": [
       "(0.28928928928928926, 0.5906763307135376)"
      ]
     },
     "execution_count": 8,
     "metadata": {},
     "output_type": "execute_result"
    }
   ],
   "source": [
    "# Chi-square goodness-of-fit test\n",
    "p = np.array([0.5, 0.5])\n",
    "total = n_obs\n",
    "expected = p * total\n",
    "observed = np.array([n_control, n_treatment])\n",
    "chisq, pval = stats.chisquare(f_obs=observed, f_exp=expected)\n",
    "\n",
    "chisq, pval"
   ]
  },
  {
   "cell_type": "markdown",
   "metadata": {
    "tags": []
   },
   "source": [
    "### Simulation Approach (Bootstrap)"
   ]
  },
  {
   "cell_type": "code",
   "execution_count": 9,
   "metadata": {},
   "outputs": [],
   "source": [
    "# get number of trials and number of 'successes'\n",
    "n_obs = data.shape[0]\n",
    "n_control, n_treatment = data.groupby(\"condition\").size()"
   ]
  },
  {
   "cell_type": "code",
   "execution_count": 10,
   "metadata": {},
   "outputs": [
    {
     "name": "stdout",
     "output_type": "stream",
     "text": [
      "0.59094\n"
     ]
    }
   ],
   "source": [
    "# simulate outcomes under null, compare to observed outcome\n",
    "p = 0.5\n",
    "n_trials = 200_000\n",
    "\n",
    "rvs = stats.binom.rvs(n=n_obs, p=p, size=n_trials)\n",
    "\n",
    "normL = (rvs <= n_control).mean()  # normal distribution left side\n",
    "normR = (rvs > (n_treatment)).mean()  # normal distribution right side\n",
    "print(normL + normR)"
   ]
  },
  {
   "cell_type": "markdown",
   "metadata": {},
   "source": [
    "## Checking the Evaluation Metric\n",
    "\n",
    "After performing our checks on the invariant metric, we can move on to performing a hypothesis test on the evaluation metric: the click-through rate. In this case, we want to see that the experimental group has a significantly larger click-through rate than the control group, a one-tailed test.\n",
    "\n",
    "The simulation approach for this metric isn't too different from the approach for the invariant metric. You'll need the overall click-through rate as the common proportion to draw simulated values from for each group. You may also want to perform more simulations since there's higher variance for this test.\n",
    "\n",
    "There are a few analytic approaches possible here, but you'll probably make use of the normal approximation again in these cases. In addition to the pooled click-through rate, you'll need a pooled standard deviation in order to compute a z-score. While there is a continuity correction possible in this case as well, it's much more conservative than the p-value that a simulation will usually imply. Computing the z-score and resulting p-value without a continuity correction should be closer to the simulation's outcomes, though slightly more optimistic about there being a statistical difference between groups.\n",
    "\n",
    "As with the previous question, you'll find a quiz and solution following the workspace for you to check your results."
   ]
  },
  {
   "cell_type": "markdown",
   "metadata": {},
   "source": [
    "- $H_{0}: \\text{P(Click-through rate | control group)} = \\text{P(Click-through rate | treatment group)}$\n",
    "- $H_{\\alpha}: \\text{P(Click-through rate | control group)} < \\text{P(Click-through rate | treatment group)}$\n",
    "\n",
    "- $\\alpha = 0.05$"
   ]
  },
  {
   "cell_type": "markdown",
   "metadata": {
    "tags": []
   },
   "source": [
    "### Analytic Approach\n",
    "\n",
    "> [AB testing calculator](https://abtestguide.com/calc/?ua=491&ub=508&ca=39&cb=57)\n",
    "\n",
    "![](https://raw.githubusercontent.com/ZacksAmber/PicGo/master/img/20230212193535.png)"
   ]
  },
  {
   "cell_type": "code",
   "execution_count": 11,
   "metadata": {},
   "outputs": [
    {
     "name": "stdout",
     "output_type": "stream",
     "text": [
      "CI: (0.002095268435703467, 0.06345470991476239)\n",
      "zstat, pval: (1.7571887396196666, 0.039442821974613705)\n"
     ]
    }
   ],
   "source": [
    "# Two-sample pooled z-test for proportion manually\n",
    "n1, n2 = data.groupby(\"condition\").size()  # 491, 508\n",
    "k1, k2 = data.groupby(\"condition\").sum()[\"click\"]  # 39, 57\n",
    "alpha = 0.05\n",
    "CL = 1 - alpha\n",
    "\n",
    "# estimated proportion\n",
    "p_hat_1 = k1 / n1\n",
    "p_hat_2 = k2 / n2\n",
    "p_hat = (k1 + k2) / (n1 + n2)\n",
    "\n",
    "# difference\n",
    "d0 = 0\n",
    "d = p_hat_2 - p_hat_1\n",
    "\n",
    "# standard error\n",
    "SE = np.sqrt(p_hat * (1 - p_hat) * (1 / n1 + 1 / n2))\n",
    "\n",
    "# margin of error\n",
    "critical_value = stats.norm.ppf(CL)\n",
    "MOE = critical_value * SE\n",
    "\n",
    "# confidence interval\n",
    "ci_low, ci_upp = d - MOE, d + MOE\n",
    "print(\"CI:\", (ci_low, ci_upp))\n",
    "\n",
    "# z statistic & p-value\n",
    "zstat = (d - d0) / SE  # pooled\n",
    "if zstat > 0:\n",
    "    pval = stats.norm.sf(zstat)\n",
    "else:\n",
    "    pval = stats.norm.cdf(zstat)\n",
    "print(\"zstat, pval:\", (zstat, pval))"
   ]
  },
  {
   "cell_type": "code",
   "execution_count": 12,
   "metadata": {},
   "outputs": [
    {
     "data": {
      "text/plain": [
       "(-1.7571887396196666, 0.039442821974613705)"
      ]
     },
     "execution_count": 12,
     "metadata": {},
     "output_type": "execute_result"
    }
   ],
   "source": [
    "# Two-sample pooled z-test for proportion by proportions_ztest\n",
    "n1, n2 = data.groupby(\"condition\").size()  # 491, 508\n",
    "k1, k2 = data.groupby(\"condition\").sum()[\"click\"]  # 39, 57\n",
    "\n",
    "# difference\n",
    "d0 = 0  # assume there is no difference of click-throught rate between two groups\n",
    "count = [k1, k2]\n",
    "nobs = [n1, n2]\n",
    "\n",
    "zstat, pval = proportions_ztest(\n",
    "    count,\n",
    "    nobs,\n",
    "    value=d0,  # null hypothesis\n",
    "    alternative=\"smaller\",\n",
    "    prop_var=False,  # pooled\n",
    ")\n",
    "zstat, pval"
   ]
  },
  {
   "cell_type": "code",
   "execution_count": 13,
   "metadata": {
    "tags": []
   },
   "outputs": [
    {
     "name": "stdout",
     "output_type": "stream",
     "text": [
      "\n",
      "\t2-sample test for equality of proportions without continuity correction\n",
      "\n",
      "data:  c(39, 57) out of c(491, 508)\n",
      "X-squared = 3.0877, df = 1, p-value = 0.03944\n",
      "alternative hypothesis: less\n",
      "95 percent confidence interval:\n",
      " -1.000000000 -0.002222566\n",
      "sample estimates:\n",
      "    prop 1     prop 2 \n",
      "0.07942974 0.11220472 \n",
      "\n",
      "\n"
     ]
    }
   ],
   "source": [
    "# R\n",
    "# Define an R code snippet to run\n",
    "r_code = f'''\n",
    "prop.test(\n",
    "    x=c({k1}, {k2}),\n",
    "    n=c({n1}, {n2}),\n",
    "    p=NULL,\n",
    "    alternative=\"less\",\n",
    "    conf.level={CL},\n",
    "    # Note that, by default, the function prop.test() used the Yates continuity correction, \n",
    "    # which is really important if either the expected successes or failures is < 5. \n",
    "    # If you don’t want the correction, use the additional argument correct = FALSE in prop.test() function. \n",
    "    # The default value is TRUE. (This option must be set to FALSE to make the test mathematically equivalent to \n",
    "    # the uncorrected z-test of a proportion.)\n",
    "    correct=FALSE\n",
    ")\n",
    "'''\n",
    "\n",
    "# Run the R code\n",
    "print(robjects.r(r_code))"
   ]
  },
  {
   "cell_type": "markdown",
   "metadata": {
    "tags": []
   },
   "source": [
    "### Simulation Approach (Bootstrap)"
   ]
  },
  {
   "cell_type": "code",
   "execution_count": 14,
   "metadata": {},
   "outputs": [],
   "source": [
    "# Simulation approach: your work here: feel free to create additional code cells as needed!\n",
    "# get number of trials and number of 'successes'\n",
    "A, B = data.groupby(\"condition\").size()\n",
    "p_click = data[\"click\"].mean()\n",
    "\n",
    "# get difference of click-through rate\n",
    "A_click_rate, B_click_rate = data.groupby(\"condition\")[\"click\"].mean()\n",
    "d_click_rate = A_click_rate - B_click_rate"
   ]
  },
  {
   "cell_type": "code",
   "execution_count": 15,
   "metadata": {},
   "outputs": [
    {
     "data": {
      "text/plain": [
       "0.03902"
      ]
     },
     "execution_count": 15,
     "metadata": {},
     "output_type": "execute_result"
    }
   ],
   "source": [
    "# simulate outcomes under null, compare to observed outcome\n",
    "n_trials = 200_000\n",
    "\n",
    "# assume A_clicks and B_clicks have the same and fair chance to get a click\n",
    "A_clicks = stats.binom.rvs(n=A, p=p_click, size=n_trials)\n",
    "B_clicks = stats.binom.rvs(n=B, p=p_click, size=n_trials)\n",
    "# difference of A_clicks / A and B_clicks / B\n",
    "samples = A_clicks / A - B_clicks / B\n",
    "\n",
    "# probability of difference samples that smaller than d_click_rate\n",
    "(samples < d_click_rate).mean()"
   ]
  },
  {
   "cell_type": "code",
   "execution_count": null,
   "metadata": {},
   "outputs": [],
   "source": []
  }
 ],
 "metadata": {
  "kernelspec": {
   "display_name": "udacity-data-scientist",
   "language": "python",
   "name": "udacity-data-scientist"
  },
  "language_info": {
   "codemirror_mode": {
    "name": "ipython",
    "version": 3
   },
   "file_extension": ".py",
   "mimetype": "text/x-python",
   "name": "python",
   "nbconvert_exporter": "python",
   "pygments_lexer": "ipython3",
   "version": "3.10.10"
  },
  "vscode": {
   "interpreter": {
    "hash": "2e174a580efcd00204033d989085bfb238e748c89b7095b60e6b7d522da0f8de"
   }
  }
 },
 "nbformat": 4,
 "nbformat_minor": 4
}
