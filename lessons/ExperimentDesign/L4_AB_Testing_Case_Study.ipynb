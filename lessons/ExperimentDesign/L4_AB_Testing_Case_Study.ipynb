{
 "cells": [
  {
   "cell_type": "code",
   "execution_count": 1,
   "id": "0b4a9eca-0d21-4afc-99b7-69979f8c2942",
   "metadata": {
    "tags": []
   },
   "outputs": [],
   "source": [
    "import pandas as pd\n",
    "import scipy.stats as stats\n",
    "import rpy2.robjects as robjects\n",
    "\n",
    "from statsmodels.stats.proportion import proportions_ztest"
   ]
  },
  {
   "cell_type": "code",
   "execution_count": 2,
   "id": "d5518f11-9014-451e-8fd0-bb6f165c8ff1",
   "metadata": {
    "tags": []
   },
   "outputs": [
    {
     "data": {
      "text/html": [
       "<div>\n",
       "<style scoped>\n",
       "    .dataframe tbody tr th:only-of-type {\n",
       "        vertical-align: middle;\n",
       "    }\n",
       "\n",
       "    .dataframe tbody tr th {\n",
       "        vertical-align: top;\n",
       "    }\n",
       "\n",
       "    .dataframe thead th {\n",
       "        text-align: right;\n",
       "    }\n",
       "</style>\n",
       "<table border=\"1\" class=\"dataframe\">\n",
       "  <thead>\n",
       "    <tr style=\"text-align: right;\">\n",
       "      <th></th>\n",
       "      <th>Day</th>\n",
       "      <th>Control Cookies</th>\n",
       "      <th>Control Downloads</th>\n",
       "      <th>Control Licenses</th>\n",
       "      <th>Experiment Cookies</th>\n",
       "      <th>Experiment Downloads</th>\n",
       "      <th>Experiment Licenses</th>\n",
       "    </tr>\n",
       "  </thead>\n",
       "  <tbody>\n",
       "    <tr>\n",
       "      <th>0</th>\n",
       "      <td>1</td>\n",
       "      <td>1764</td>\n",
       "      <td>246</td>\n",
       "      <td>1</td>\n",
       "      <td>1850</td>\n",
       "      <td>339</td>\n",
       "      <td>3</td>\n",
       "    </tr>\n",
       "    <tr>\n",
       "      <th>1</th>\n",
       "      <td>2</td>\n",
       "      <td>1541</td>\n",
       "      <td>234</td>\n",
       "      <td>2</td>\n",
       "      <td>1590</td>\n",
       "      <td>281</td>\n",
       "      <td>2</td>\n",
       "    </tr>\n",
       "    <tr>\n",
       "      <th>2</th>\n",
       "      <td>3</td>\n",
       "      <td>1457</td>\n",
       "      <td>240</td>\n",
       "      <td>1</td>\n",
       "      <td>1515</td>\n",
       "      <td>274</td>\n",
       "      <td>1</td>\n",
       "    </tr>\n",
       "    <tr>\n",
       "      <th>3</th>\n",
       "      <td>4</td>\n",
       "      <td>1587</td>\n",
       "      <td>224</td>\n",
       "      <td>1</td>\n",
       "      <td>1541</td>\n",
       "      <td>284</td>\n",
       "      <td>2</td>\n",
       "    </tr>\n",
       "    <tr>\n",
       "      <th>4</th>\n",
       "      <td>5</td>\n",
       "      <td>1606</td>\n",
       "      <td>253</td>\n",
       "      <td>2</td>\n",
       "      <td>1643</td>\n",
       "      <td>292</td>\n",
       "      <td>3</td>\n",
       "    </tr>\n",
       "  </tbody>\n",
       "</table>\n",
       "</div>"
      ],
      "text/plain": [
       "   Day  Control Cookies  Control Downloads  Control Licenses   \n",
       "0    1             1764                246                 1  \\\n",
       "1    2             1541                234                 2   \n",
       "2    3             1457                240                 1   \n",
       "3    4             1587                224                 1   \n",
       "4    5             1606                253                 2   \n",
       "\n",
       "   Experiment Cookies  Experiment Downloads  Experiment Licenses  \n",
       "0                1850                   339                    3  \n",
       "1                1590                   281                    2  \n",
       "2                1515                   274                    1  \n",
       "3                1541                   284                    2  \n",
       "4                1643                   292                    3  "
      ]
     },
     "execution_count": 2,
     "metadata": {},
     "output_type": "execute_result"
    }
   ],
   "source": [
    "df = pd.read_csv(\"./data/homepage-experiment-data.csv\")\n",
    "df.head()"
   ]
  },
  {
   "cell_type": "markdown",
   "id": "3ab35942-3dc1-4526-8f50-f9a8f0ba469a",
   "metadata": {
    "tags": []
   },
   "source": [
    "# Checking the Invariant Metric\n",
    "\n",
    "What is the p-value for the test on the number of cookies assigned to each group?\n",
    "\n",
    "\n",
    "- $H_{0}: \\text{The two groups are balanced.}$\n",
    "- $H_{\\alpha}: \\text{The two groups are imblanced.}$\n",
    "\n",
    "- $\\alpha = 0.05$"
   ]
  },
  {
   "cell_type": "code",
   "execution_count": 3,
   "id": "e62032ea-1f1b-4483-945d-74a6fdff568a",
   "metadata": {
    "tags": []
   },
   "outputs": [],
   "source": [
    "n1 = df[\"Control Cookies\"].sum()  # 46851\n",
    "n2 = df[\"Experiment Cookies\"].sum()  # 47346\n",
    "n = n1 + n2  # 94197"
   ]
  },
  {
   "cell_type": "code",
   "execution_count": 4,
   "id": "ddfea0a6-5643-42fa-90b9-e6278d568a5b",
   "metadata": {
    "tags": []
   },
   "outputs": [
    {
     "data": {
      "text/plain": [
       "(-1.6128451019747376, 0.10677816462098283)"
      ]
     },
     "execution_count": 4,
     "metadata": {},
     "output_type": "execute_result"
    }
   ],
   "source": [
    "# One-proportion z-test\n",
    "zstat, pval = proportions_ztest(\n",
    "    count=n1, nobs=n, value=.5, alternative=\"two-sided\", prop_var=False\n",
    ")\n",
    "zstat, pval"
   ]
  },
  {
   "cell_type": "code",
   "execution_count": 5,
   "id": "66cedf8e-2149-4b0b-92a2-e9ed491addb1",
   "metadata": {
    "tags": []
   },
   "outputs": [
    {
     "name": "stdout",
     "output_type": "stream",
     "text": [
      "\n",
      "\t1-sample proportions test without continuity correction\n",
      "\n",
      "data:  c(46851) out of c(94197), null probability 0.5\n",
      "X-squared = 2.6012, df = 1, p-value = 0.1068\n",
      "alternative hypothesis: true p is not equal to 0.5\n",
      "95 percent confidence interval:\n",
      " 0.4941797 0.5005655\n",
      "sample estimates:\n",
      "        p \n",
      "0.4973725 \n",
      "\n",
      "\n"
     ]
    }
   ],
   "source": [
    "# R\n",
    "# Define an R code snippet to run\n",
    "r_code = f'''\n",
    "prop.test(\n",
    "    x=c({n1}),\n",
    "    n=c({n}),\n",
    "    p=.5,\n",
    "    alternative=\"two.sided\",\n",
    "    # Note that, by default, the function prop.test() used the Yates continuity correction, \n",
    "    # which is really important if either the expected successes or failures is < 5. \n",
    "    # If you don’t want the correction, use the additional argument correct = FALSE in prop.test() function. \n",
    "    # The default value is TRUE. (This option must be set to FALSE to make the test mathematically equivalent to \n",
    "    # the uncorrected z-test of a proportion.)\n",
    "    correct=FALSE\n",
    ")\n",
    "'''\n",
    "\n",
    "# Run the R code\n",
    "print(robjects.r(r_code))"
   ]
  },
  {
   "cell_type": "markdown",
   "id": "765a12c6-54e5-4efe-8a90-1c450e14c225",
   "metadata": {
    "tags": []
   },
   "source": [
    "---\n",
    "\n",
    "# Checking the Evaluation Metric I\n",
    "\n",
    "What is the p-value for the test on the download rate between groups?\n",
    "\n",
    "- $H_{0}: \\text{P(Download rate | control group)} = \\text{P(Download rate | treatment group)}$\n",
    "- $H_{\\alpha}: \\text{P(Download rate | control group)} < \\text{P(Download rate | treatment group)}$\n",
    "\n",
    "- $\\alpha = 0.05$"
   ]
  },
  {
   "cell_type": "code",
   "execution_count": 6,
   "id": "a39514ce-e8e9-47bd-b118-ab63db5fbbdb",
   "metadata": {
    "tags": []
   },
   "outputs": [
    {
     "data": {
      "text/plain": [
       "(-7.870833726066236, 1.7614279636728079e-15)"
      ]
     },
     "execution_count": 6,
     "metadata": {},
     "output_type": "execute_result"
    }
   ],
   "source": [
    "# Two-sample pooled z-test for proportion by proportions_ztest\n",
    "dl1 = df[\"Control Downloads\"].sum()  # 7554\n",
    "dl2 = df[\"Experiment Downloads\"].sum()  # 8548\n",
    "\n",
    "# difference\n",
    "d0 = 0  # assume there is no difference of click-throught rate between two groups\n",
    "count = [dl1, dl2]\n",
    "nobs = [n1, n2]\n",
    "\n",
    "zstat, pval = proportions_ztest(\n",
    "    count,\n",
    "    nobs,\n",
    "    value=d0,  # null hypothesis\n",
    "    alternative=\"smaller\",\n",
    "    prop_var=False,  # pooled\n",
    ")\n",
    "zstat, pval"
   ]
  },
  {
   "cell_type": "code",
   "execution_count": 7,
   "id": "dfcb5675-bd28-49b6-b382-07956178d143",
   "metadata": {},
   "outputs": [
    {
     "name": "stdout",
     "output_type": "stream",
     "text": [
      "\n",
      "\t2-sample test for equality of proportions without continuity correction\n",
      "\n",
      "data:  c(7554, 8548) out of c(46851, 47346)\n",
      "X-squared = 61.95, df = 1, p-value = 1.761e-15\n",
      "alternative hypothesis: less\n",
      "97.5 percent confidence interval:\n",
      " -1.00000000 -0.01450323\n",
      "sample estimates:\n",
      "   prop 1    prop 2 \n",
      "0.1612346 0.1805432 \n",
      "\n",
      "\n"
     ]
    }
   ],
   "source": [
    "# R\n",
    "# Define an R code snippet to run\n",
    "r_code = f'''\n",
    "prop.test(\n",
    "    x=c({dl1}, {dl2}),\n",
    "    n=c({n1}, {n2}),\n",
    "    p=NULL,\n",
    "    alternative=\"less\",\n",
    "    conf.level=.975,\n",
    "    # Note that, by default, the function prop.test() used the Yates continuity correction, \n",
    "    # which is really important if either the expected successes or failures is < 5. \n",
    "    # If you don’t want the correction, use the additional argument correct = FALSE in prop.test() function. \n",
    "    # The default value is TRUE. (This option must be set to FALSE to make the test mathematically equivalent to \n",
    "    # the uncorrected z-test of a proportion.)\n",
    "    correct=FALSE\n",
    ")\n",
    "'''\n",
    "\n",
    "# Run the R code\n",
    "print(robjects.r(r_code))"
   ]
  },
  {
   "cell_type": "markdown",
   "id": "3349bb14-71c9-485e-9d18-16ec81a6fedd",
   "metadata": {
    "tags": []
   },
   "source": [
    "---\n",
    "\n",
    "## Checking the Evaluation Metric II\n",
    "\n",
    "What is the p-value for the test on the license purchasing rate between groups?\n",
    "\n",
    "- $H_{0}: \\text{P(License purchase rate | control group)} = \\text{P(License purchase rate | treatment group)}$\n",
    "- $H_{\\alpha}: \\text{P(License purchase rate | control group)} < \\text{P(License purchase rate | treatment group)}$\n",
    "\n",
    "- $\\alpha = 0.05$"
   ]
  },
  {
   "cell_type": "code",
   "execution_count": 8,
   "id": "cb2dcd43-4bbf-41c8-b227-ac2eff4ecca2",
   "metadata": {
    "tags": []
   },
   "outputs": [
    {
     "data": {
      "text/plain": [
       "(-0.2586750111658684, 0.3979430008399871)"
      ]
     },
     "execution_count": 8,
     "metadata": {},
     "output_type": "execute_result"
    }
   ],
   "source": [
    "# Two-sample pooled z-test for proportion by proportions_ztest\n",
    "# get the first 21 days\n",
    "n1 = df.loc[:20, \"Control Cookies\"].sum()  # 33758\n",
    "n2 = df.loc[:20, \"Experiment Cookies\"].sum()  # 34338\n",
    "# license\n",
    "lic1 = df[\"Control Licenses\"].sum()  # 710\n",
    "lic2 = df[\"Experiment Licenses\"].sum()  # 732\n",
    "\n",
    "# difference\n",
    "d0 = 0  # assume there is no difference of click-throught rate between two groups\n",
    "count = [lic1, lic2]\n",
    "nobs = [n1, n2]\n",
    "\n",
    "zstat, pval = proportions_ztest(\n",
    "    count,\n",
    "    nobs,\n",
    "    value=d0,  # null hypothesis\n",
    "    alternative=\"smaller\",\n",
    "    prop_var=False,  # pooled\n",
    ")\n",
    "zstat, pval"
   ]
  },
  {
   "cell_type": "code",
   "execution_count": 9,
   "id": "cbac1c4b-5205-4247-a28a-6e8ff17a1c15",
   "metadata": {
    "tags": []
   },
   "outputs": [
    {
     "name": "stdout",
     "output_type": "stream",
     "text": [
      "\n",
      "\t2-sample test for equality of proportions without continuity correction\n",
      "\n",
      "data:  c(710, 732) out of c(33758, 34338)\n",
      "X-squared = 0.066913, df = 1, p-value = 0.3979\n",
      "alternative hypothesis: less\n",
      "97.5 percent confidence interval:\n",
      " -1.000000000  0.001877193\n",
      "sample estimates:\n",
      "    prop 1     prop 2 \n",
      "0.02103205 0.02131749 \n",
      "\n",
      "\n"
     ]
    }
   ],
   "source": [
    "# R\n",
    "# Define an R code snippet to run\n",
    "r_code = f'''\n",
    "prop.test(\n",
    "    x=c({lic1}, {lic2}),\n",
    "    n=c({n1}, {n2}),\n",
    "    p=NULL,\n",
    "    alternative=\"less\",\n",
    "    conf.level=.975,\n",
    "    # Note that, by default, the function prop.test() used the Yates continuity correction, \n",
    "    # which is really important if either the expected successes or failures is < 5. \n",
    "    # If you don’t want the correction, use the additional argument correct = FALSE in prop.test() function. \n",
    "    # The default value is TRUE. (This option must be set to FALSE to make the test mathematically equivalent to \n",
    "    # the uncorrected z-test of a proportion.)\n",
    "    correct=FALSE\n",
    ")\n",
    "'''\n",
    "\n",
    "# Run the R code\n",
    "print(robjects.r(r_code))"
   ]
  },
  {
   "cell_type": "code",
   "execution_count": null,
   "id": "631203f7-0a42-4688-8c97-d73c078fa688",
   "metadata": {},
   "outputs": [],
   "source": []
  }
 ],
 "metadata": {
  "kernelspec": {
   "display_name": "udacity-data-scientist",
   "language": "python",
   "name": "udacity-data-scientist"
  },
  "language_info": {
   "codemirror_mode": {
    "name": "ipython",
    "version": 3
   },
   "file_extension": ".py",
   "mimetype": "text/x-python",
   "name": "python",
   "nbconvert_exporter": "python",
   "pygments_lexer": "ipython3",
   "version": "3.10.10"
  }
 },
 "nbformat": 4,
 "nbformat_minor": 5
}
