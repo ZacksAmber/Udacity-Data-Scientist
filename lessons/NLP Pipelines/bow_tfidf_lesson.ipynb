{
 "cells": [
  {
   "cell_type": "markdown",
   "metadata": {},
   "source": [
    "# Bag of Words and TF-IDF\n",
    "Below, we'll look at three useful methods of vectorizing text.\n",
    "- `CountVectorizer` - Bag of Words\n",
    "- `TfidfTransformer` - TF-IDF values\n",
    "- `TfidfVectorizer` - Bag of Words AND TF-IDF values\n",
    "\n",
    "Let's first use an example from earlier and apply the text processing steps we saw in this lesson."
   ]
  },
  {
   "cell_type": "code",
   "execution_count": 1,
   "metadata": {},
   "outputs": [
    {
     "name": "stderr",
     "output_type": "stream",
     "text": [
      "[nltk_data] Downloading package punkt to /Users/zacks/nltk_data...\n",
      "[nltk_data]   Package punkt is already up-to-date!\n",
      "[nltk_data] Downloading package stopwords to /Users/zacks/nltk_data...\n",
      "[nltk_data]   Package stopwords is already up-to-date!\n",
      "[nltk_data] Downloading package wordnet to /Users/zacks/nltk_data...\n",
      "[nltk_data]   Package wordnet is already up-to-date!\n"
     ]
    },
    {
     "data": {
      "text/plain": [
       "True"
      ]
     },
     "execution_count": 1,
     "metadata": {},
     "output_type": "execute_result"
    }
   ],
   "source": [
    "import re\n",
    "import nltk\n",
    "from nltk.corpus import stopwords\n",
    "from nltk.stem import PorterStemmer\n",
    "from nltk.tokenize import word_tokenize\n",
    "\n",
    "nltk.download('punkt')\n",
    "nltk.download('stopwords')\n",
    "nltk.download('wordnet')"
   ]
  },
  {
   "cell_type": "code",
   "execution_count": 2,
   "metadata": {},
   "outputs": [],
   "source": [
    "corpus = [\"Little House on the Prairie\", \n",
    "           \"Mary had a Little Lamb\", \n",
    "           \"The Silence of the Lambs\", \n",
    "           \"Twinkle Twinkle Little Star\"]"
   ]
  },
  {
   "cell_type": "code",
   "execution_count": 3,
   "metadata": {},
   "outputs": [],
   "source": [
    "stop_words = stopwords.words(\"english\")\n",
    "stemmer = PorterStemmer()"
   ]
  },
  {
   "cell_type": "markdown",
   "metadata": {},
   "source": [
    "Use the skills you learned so far to create a function `tokenize` that takes in a string of text and applies the following:\n",
    "- case normalization (convert to all lowercase)\n",
    "- punctuation removal\n",
    "- tokenization, lemmatization, and stop word removal using `nltk`\n",
    "\n",
    "Feel free to refer back to previous sections to complete these steps!"
   ]
  },
  {
   "cell_type": "code",
   "execution_count": 4,
   "metadata": {},
   "outputs": [],
   "source": [
    "def tokenize(text):\n",
    "    # normalize case and remove punctuation\n",
    "    text = re.sub(r\"[^a-zA-Z0-9]\", \" \", text.lower())\n",
    "    \n",
    "    # tokenize text\n",
    "    tokens = word_tokenize(text)\n",
    "    \n",
    "    # lemmatize and remove stop words\n",
    "    tokens = [stemmer.stem(word) for word in tokens if word not in stop_words]\n",
    "\n",
    "    return tokens"
   ]
  },
  {
   "cell_type": "markdown",
   "metadata": {},
   "source": [
    "# `CountVectorizer` (Bag of Words)"
   ]
  },
  {
   "cell_type": "code",
   "execution_count": 5,
   "metadata": {},
   "outputs": [],
   "source": [
    "from sklearn.feature_extraction.text import CountVectorizer\n",
    "\n",
    "# initialize count vectorizer object\n",
    "countVectorizer = CountVectorizer(tokenizer=tokenize)"
   ]
  },
  {
   "cell_type": "code",
   "execution_count": 6,
   "metadata": {},
   "outputs": [],
   "source": [
    "# get counts of each token (word) in text data\n",
    "X = countVectorizer.fit_transform(corpus)"
   ]
  },
  {
   "cell_type": "code",
   "execution_count": 7,
   "metadata": {},
   "outputs": [
    {
     "data": {
      "text/plain": [
       "array([[1, 0, 1, 0, 1, 0, 0, 0],\n",
       "       [0, 1, 1, 1, 0, 0, 0, 0],\n",
       "       [0, 1, 0, 0, 0, 1, 0, 0],\n",
       "       [0, 0, 1, 0, 0, 0, 1, 2]])"
      ]
     },
     "execution_count": 7,
     "metadata": {},
     "output_type": "execute_result"
    }
   ],
   "source": [
    "# convert Compressed Sparse Row matrix to numpy array to view\n",
    "X.toarray()"
   ]
  },
  {
   "cell_type": "code",
   "execution_count": 8,
   "metadata": {},
   "outputs": [
    {
     "data": {
      "text/plain": [
       "array(['hous', 'lamb', 'littl', 'mari', 'prairi', 'silenc', 'star',\n",
       "       'twinkl'], dtype=object)"
      ]
     },
     "execution_count": 8,
     "metadata": {},
     "output_type": "execute_result"
    }
   ],
   "source": [
    "# Get output feature names for transformation\n",
    "countVectorizer.get_feature_names_out()"
   ]
  },
  {
   "cell_type": "code",
   "execution_count": 9,
   "metadata": {},
   "outputs": [
    {
     "data": {
      "text/plain": [
       "[array(['littl', 'hous', 'prairi'], dtype='<U6'),\n",
       " array(['littl', 'mari', 'lamb'], dtype='<U6'),\n",
       " array(['lamb', 'silenc'], dtype='<U6'),\n",
       " array(['littl', 'twinkl', 'star'], dtype='<U6')]"
      ]
     },
     "execution_count": 9,
     "metadata": {},
     "output_type": "execute_result"
    }
   ],
   "source": [
    "# View inverse transform\n",
    "countVectorizer.inverse_transform(X)"
   ]
  },
  {
   "cell_type": "code",
   "execution_count": 10,
   "metadata": {},
   "outputs": [
    {
     "data": {
      "text/plain": [
       "{'littl': 2,\n",
       " 'hous': 0,\n",
       " 'prairi': 4,\n",
       " 'mari': 3,\n",
       " 'lamb': 1,\n",
       " 'silenc': 5,\n",
       " 'twinkl': 7,\n",
       " 'star': 6}"
      ]
     },
     "execution_count": 10,
     "metadata": {},
     "output_type": "execute_result"
    }
   ],
   "source": [
    "# A mapping of terms to feature indices.\n",
    "countVectorizer.vocabulary_"
   ]
  },
  {
   "cell_type": "code",
   "execution_count": 11,
   "metadata": {},
   "outputs": [
    {
     "data": {
      "text/html": [
       "<div>\n",
       "<style scoped>\n",
       "    .dataframe tbody tr th:only-of-type {\n",
       "        vertical-align: middle;\n",
       "    }\n",
       "\n",
       "    .dataframe tbody tr th {\n",
       "        vertical-align: top;\n",
       "    }\n",
       "\n",
       "    .dataframe thead th {\n",
       "        text-align: right;\n",
       "    }\n",
       "</style>\n",
       "<table border=\"1\" class=\"dataframe\">\n",
       "  <thead>\n",
       "    <tr style=\"text-align: right;\">\n",
       "      <th></th>\n",
       "      <th>hous</th>\n",
       "      <th>lamb</th>\n",
       "      <th>littl</th>\n",
       "      <th>mari</th>\n",
       "      <th>prairi</th>\n",
       "      <th>silenc</th>\n",
       "      <th>star</th>\n",
       "      <th>twinkl</th>\n",
       "    </tr>\n",
       "  </thead>\n",
       "  <tbody>\n",
       "    <tr>\n",
       "      <th>Little House on the Prairie</th>\n",
       "      <td>1</td>\n",
       "      <td>0</td>\n",
       "      <td>1</td>\n",
       "      <td>0</td>\n",
       "      <td>1</td>\n",
       "      <td>0</td>\n",
       "      <td>0</td>\n",
       "      <td>0</td>\n",
       "    </tr>\n",
       "    <tr>\n",
       "      <th>Mary had a Little Lamb</th>\n",
       "      <td>0</td>\n",
       "      <td>1</td>\n",
       "      <td>1</td>\n",
       "      <td>1</td>\n",
       "      <td>0</td>\n",
       "      <td>0</td>\n",
       "      <td>0</td>\n",
       "      <td>0</td>\n",
       "    </tr>\n",
       "    <tr>\n",
       "      <th>The Silence of the Lambs</th>\n",
       "      <td>0</td>\n",
       "      <td>1</td>\n",
       "      <td>0</td>\n",
       "      <td>0</td>\n",
       "      <td>0</td>\n",
       "      <td>1</td>\n",
       "      <td>0</td>\n",
       "      <td>0</td>\n",
       "    </tr>\n",
       "    <tr>\n",
       "      <th>Twinkle Twinkle Little Star</th>\n",
       "      <td>0</td>\n",
       "      <td>0</td>\n",
       "      <td>1</td>\n",
       "      <td>0</td>\n",
       "      <td>0</td>\n",
       "      <td>0</td>\n",
       "      <td>1</td>\n",
       "      <td>2</td>\n",
       "    </tr>\n",
       "  </tbody>\n",
       "</table>\n",
       "</div>"
      ],
      "text/plain": [
       "                             hous  lamb  littl  mari  prairi  silenc  star  \\\n",
       "Little House on the Prairie     1     0      1     0       1       0     0   \n",
       "Mary had a Little Lamb          0     1      1     1       0       0     0   \n",
       "The Silence of the Lambs        0     1      0     0       0       1     0   \n",
       "Twinkle Twinkle Little Star     0     0      1     0       0       0     1   \n",
       "\n",
       "                             twinkl  \n",
       "Little House on the Prairie       0  \n",
       "Mary had a Little Lamb            0  \n",
       "The Silence of the Lambs          0  \n",
       "Twinkle Twinkle Little Star       2  "
      ]
     },
     "execution_count": 11,
     "metadata": {},
     "output_type": "execute_result"
    }
   ],
   "source": [
    "import pandas as pd\n",
    "\n",
    "# Document-Term Matrix\n",
    "df = pd.DataFrame(index=corpus, columns=countVectorizer.get_feature_names_out(), data=X.toarray())\n",
    "df"
   ]
  },
  {
   "cell_type": "code",
   "execution_count": 12,
   "metadata": {},
   "outputs": [
    {
     "data": {
      "text/html": [
       "<div>\n",
       "<style scoped>\n",
       "    .dataframe tbody tr th:only-of-type {\n",
       "        vertical-align: middle;\n",
       "    }\n",
       "\n",
       "    .dataframe tbody tr th {\n",
       "        vertical-align: top;\n",
       "    }\n",
       "\n",
       "    .dataframe thead th {\n",
       "        text-align: right;\n",
       "    }\n",
       "</style>\n",
       "<table border=\"1\" class=\"dataframe\">\n",
       "  <thead>\n",
       "    <tr style=\"text-align: right;\">\n",
       "      <th></th>\n",
       "      <th>hous</th>\n",
       "      <th>lamb</th>\n",
       "      <th>littl</th>\n",
       "      <th>mari</th>\n",
       "      <th>prairi</th>\n",
       "      <th>silenc</th>\n",
       "      <th>star</th>\n",
       "      <th>twinkl</th>\n",
       "    </tr>\n",
       "  </thead>\n",
       "  <tbody>\n",
       "    <tr>\n",
       "      <th>Document Frequency</th>\n",
       "      <td>1</td>\n",
       "      <td>2</td>\n",
       "      <td>3</td>\n",
       "      <td>1</td>\n",
       "      <td>1</td>\n",
       "      <td>1</td>\n",
       "      <td>1</td>\n",
       "      <td>2</td>\n",
       "    </tr>\n",
       "  </tbody>\n",
       "</table>\n",
       "</div>"
      ],
      "text/plain": [
       "                    hous  lamb  littl  mari  prairi  silenc  star  twinkl\n",
       "Document Frequency     1     2      3     1       1       1     1       2"
      ]
     },
     "execution_count": 12,
     "metadata": {},
     "output_type": "execute_result"
    }
   ],
   "source": [
    "# Document Frequency\n",
    "document_frequency = pd.DataFrame(index=[\"Document Frequency\"], data=df.sum().to_dict())\n",
    "document_frequency"
   ]
  },
  {
   "cell_type": "code",
   "execution_count": 13,
   "metadata": {},
   "outputs": [
    {
     "data": {
      "text/html": [
       "<div>\n",
       "<style scoped>\n",
       "    .dataframe tbody tr th:only-of-type {\n",
       "        vertical-align: middle;\n",
       "    }\n",
       "\n",
       "    .dataframe tbody tr th {\n",
       "        vertical-align: top;\n",
       "    }\n",
       "\n",
       "    .dataframe thead th {\n",
       "        text-align: right;\n",
       "    }\n",
       "</style>\n",
       "<table border=\"1\" class=\"dataframe\">\n",
       "  <thead>\n",
       "    <tr style=\"text-align: right;\">\n",
       "      <th></th>\n",
       "      <th>hous</th>\n",
       "      <th>lamb</th>\n",
       "      <th>littl</th>\n",
       "      <th>mari</th>\n",
       "      <th>prairi</th>\n",
       "      <th>silenc</th>\n",
       "      <th>star</th>\n",
       "      <th>twinkl</th>\n",
       "    </tr>\n",
       "  </thead>\n",
       "  <tbody>\n",
       "    <tr>\n",
       "      <th>Little House on the Prairie</th>\n",
       "      <td>1</td>\n",
       "      <td>0</td>\n",
       "      <td>1</td>\n",
       "      <td>0</td>\n",
       "      <td>1</td>\n",
       "      <td>0</td>\n",
       "      <td>0</td>\n",
       "      <td>0</td>\n",
       "    </tr>\n",
       "    <tr>\n",
       "      <th>Mary had a Little Lamb</th>\n",
       "      <td>0</td>\n",
       "      <td>1</td>\n",
       "      <td>1</td>\n",
       "      <td>1</td>\n",
       "      <td>0</td>\n",
       "      <td>0</td>\n",
       "      <td>0</td>\n",
       "      <td>0</td>\n",
       "    </tr>\n",
       "    <tr>\n",
       "      <th>The Silence of the Lambs</th>\n",
       "      <td>0</td>\n",
       "      <td>1</td>\n",
       "      <td>0</td>\n",
       "      <td>0</td>\n",
       "      <td>0</td>\n",
       "      <td>1</td>\n",
       "      <td>0</td>\n",
       "      <td>0</td>\n",
       "    </tr>\n",
       "    <tr>\n",
       "      <th>Twinkle Twinkle Little Star</th>\n",
       "      <td>0</td>\n",
       "      <td>0</td>\n",
       "      <td>1</td>\n",
       "      <td>0</td>\n",
       "      <td>0</td>\n",
       "      <td>0</td>\n",
       "      <td>1</td>\n",
       "      <td>2</td>\n",
       "    </tr>\n",
       "    <tr>\n",
       "      <th>Document Frequency</th>\n",
       "      <td>1</td>\n",
       "      <td>2</td>\n",
       "      <td>3</td>\n",
       "      <td>1</td>\n",
       "      <td>1</td>\n",
       "      <td>1</td>\n",
       "      <td>1</td>\n",
       "      <td>2</td>\n",
       "    </tr>\n",
       "  </tbody>\n",
       "</table>\n",
       "</div>"
      ],
      "text/plain": [
       "                             hous  lamb  littl  mari  prairi  silenc  star  \\\n",
       "Little House on the Prairie     1     0      1     0       1       0     0   \n",
       "Mary had a Little Lamb          0     1      1     1       0       0     0   \n",
       "The Silence of the Lambs        0     1      0     0       0       1     0   \n",
       "Twinkle Twinkle Little Star     0     0      1     0       0       0     1   \n",
       "Document Frequency              1     2      3     1       1       1     1   \n",
       "\n",
       "                             twinkl  \n",
       "Little House on the Prairie       0  \n",
       "Mary had a Little Lamb            0  \n",
       "The Silence of the Lambs          0  \n",
       "Twinkle Twinkle Little Star       2  \n",
       "Document Frequency                2  "
      ]
     },
     "execution_count": 13,
     "metadata": {},
     "output_type": "execute_result"
    }
   ],
   "source": [
    "df.append(document_frequency)"
   ]
  },
  {
   "cell_type": "markdown",
   "metadata": {
    "tags": []
   },
   "source": [
    "# Calculate tf-idf manually"
   ]
  },
  {
   "cell_type": "markdown",
   "metadata": {},
   "source": [
    "> [tf–idf](https://en.wikipedia.org/wiki/Tf%E2%80%93idf)<br>\n",
    "> [sklearn.feature_extraction.text.TfidfTransformer](https://scikit-learn.org/stable/modules/generated/sklearn.feature_extraction.text.TfidfTransformer.html#sklearn.feature_extraction.text.TfidfTransformer)\n",
    "\n",
    "The formula that is used to compute the tf-idf for a term t of a document d in a document set is tf-idf(t, d) = tf(t, d) * idf(t), and the idf is computed as idf(t) = log [ n / df(t) ] + 1 (if smooth_idf=False), where n is the total number of documents in the document set and df(t) is the document frequency of t; the document frequency is the number of documents in the document set that contain the term t. The effect of adding “1” to the idf in the equation above is that terms with zero idf, i.e., terms that occur in all documents in a training set, will not be entirely ignored. (Note that the idf formula above differs from the standard textbook notation that defines the idf as idf(t) = log [ n / (df(t) + 1) ]).\n",
    "\n",
    "Term Frequency, $tf(t, d)$, is the frequency of term $t$,\n",
    "\n",
    "$$\\displaystyle tf(t, d) = \\frac{f_{t, d}}{\\sum_{t' \\in d}f_{t', d}}$$\n",
    "\n",
    "where $f_{t, d}$ is the *raw count* of a term in a document, i.e., the number of times that term $t$ occurs in document $d$. There are various other ways to define term frequency: \n",
    "- the raw count itself: $\\displaystyle tf(t, d) = f_{t, d}$\n",
    "- Boolean frequencies: $\\displaystyle tf(t, d) = 1$\n",
    "- term frequency adjusted for document length: $\\displaystyle tf(t, d) = f_{t, d} \\div \\textrm{(number of words in d)}$\n",
    "- logarithmmically scaled frequency: $\\displaystyle tf(t, d) = log(1 + f_{t, d})$\n",
    "- augmented frequency, to prevent a bias towards longer documents, e.g. raw frequency divided by the raw frequency of the most occurring term in the document: $\\displaystyle tf(t, d) = 0.5 + 0.5 \\cdot \\frac{f_{t, d}}{max\\{f_{t', d}:t' \\in d\\}}$"
   ]
  },
  {
   "cell_type": "code",
   "execution_count": 14,
   "metadata": {},
   "outputs": [
    {
     "data": {
      "text/html": [
       "<div>\n",
       "<style scoped>\n",
       "    .dataframe tbody tr th:only-of-type {\n",
       "        vertical-align: middle;\n",
       "    }\n",
       "\n",
       "    .dataframe tbody tr th {\n",
       "        vertical-align: top;\n",
       "    }\n",
       "\n",
       "    .dataframe thead th {\n",
       "        text-align: right;\n",
       "    }\n",
       "</style>\n",
       "<table border=\"1\" class=\"dataframe\">\n",
       "  <thead>\n",
       "    <tr style=\"text-align: right;\">\n",
       "      <th></th>\n",
       "      <th>hous</th>\n",
       "      <th>lamb</th>\n",
       "      <th>littl</th>\n",
       "      <th>mari</th>\n",
       "      <th>prairi</th>\n",
       "      <th>silenc</th>\n",
       "      <th>star</th>\n",
       "      <th>twinkl</th>\n",
       "    </tr>\n",
       "  </thead>\n",
       "  <tbody>\n",
       "    <tr>\n",
       "      <th>Little House on the Prairie</th>\n",
       "      <td>1.0</td>\n",
       "      <td>0.0</td>\n",
       "      <td>0.333333</td>\n",
       "      <td>0.0</td>\n",
       "      <td>1.0</td>\n",
       "      <td>0.0</td>\n",
       "      <td>0.0</td>\n",
       "      <td>0.0</td>\n",
       "    </tr>\n",
       "    <tr>\n",
       "      <th>Mary had a Little Lamb</th>\n",
       "      <td>0.0</td>\n",
       "      <td>0.5</td>\n",
       "      <td>0.333333</td>\n",
       "      <td>1.0</td>\n",
       "      <td>0.0</td>\n",
       "      <td>0.0</td>\n",
       "      <td>0.0</td>\n",
       "      <td>0.0</td>\n",
       "    </tr>\n",
       "    <tr>\n",
       "      <th>The Silence of the Lambs</th>\n",
       "      <td>0.0</td>\n",
       "      <td>0.5</td>\n",
       "      <td>0.000000</td>\n",
       "      <td>0.0</td>\n",
       "      <td>0.0</td>\n",
       "      <td>1.0</td>\n",
       "      <td>0.0</td>\n",
       "      <td>0.0</td>\n",
       "    </tr>\n",
       "    <tr>\n",
       "      <th>Twinkle Twinkle Little Star</th>\n",
       "      <td>0.0</td>\n",
       "      <td>0.0</td>\n",
       "      <td>0.333333</td>\n",
       "      <td>0.0</td>\n",
       "      <td>0.0</td>\n",
       "      <td>0.0</td>\n",
       "      <td>1.0</td>\n",
       "      <td>1.0</td>\n",
       "    </tr>\n",
       "  </tbody>\n",
       "</table>\n",
       "</div>"
      ],
      "text/plain": [
       "                             hous  lamb     littl  mari  prairi  silenc  star  \\\n",
       "Little House on the Prairie   1.0   0.0  0.333333   0.0     1.0     0.0   0.0   \n",
       "Mary had a Little Lamb        0.0   0.5  0.333333   1.0     0.0     0.0   0.0   \n",
       "The Silence of the Lambs      0.0   0.5  0.000000   0.0     0.0     1.0   0.0   \n",
       "Twinkle Twinkle Little Star   0.0   0.0  0.333333   0.0     0.0     0.0   1.0   \n",
       "\n",
       "                             twinkl  \n",
       "Little House on the Prairie     0.0  \n",
       "Mary had a Little Lamb          0.0  \n",
       "The Silence of the Lambs        0.0  \n",
       "Twinkle Twinkle Little Star     1.0  "
      ]
     },
     "execution_count": 14,
     "metadata": {},
     "output_type": "execute_result"
    }
   ],
   "source": [
    "# tf\n",
    "df / df.sum()"
   ]
  },
  {
   "cell_type": "markdown",
   "metadata": {},
   "source": [
    "The **inverse document frequency** is a measure of how much information the word provides, i.e., if it's common or rare across all documents. It is the [logarithmically scaled](https://en.wikipedia.org/wiki/Logarithmic_scale \"Logarithmic scale\") inverse fraction of the documents that contain the word (obtained by dividing the total number of documents by the number of documents containing the term, and then taking the logarithm of that quotient):\n",
    "\n",
    "$$idf(t, D) = log \\frac{N}{|d \\in D:t \\in d|}$$\n",
    "\n",
    "with\n",
    "- $N$:  total number of documents in the corpus $N = |D|$\n",
    "- $|{d \\in D:t \\in d}|$: number of documents where the term $t$ appears (i.e., $tf(t, d) \\neq 0$. If the term is not in the corpus, this will lead to a division-by-zero. It is therefore common to adjust the denominator to $1 + |{d \\in D:t \\in d}|$."
   ]
  },
  {
   "cell_type": "code",
   "execution_count": 15,
   "metadata": {},
   "outputs": [],
   "source": [
    "# idf\n",
    "from math import log10"
   ]
  },
  {
   "cell_type": "code",
   "execution_count": 16,
   "metadata": {},
   "outputs": [
    {
     "data": {
      "text/plain": [
       "1.6020599913279625"
      ]
     },
     "execution_count": 16,
     "metadata": {},
     "output_type": "execute_result"
    }
   ],
   "source": [
    "# For term hous\n",
    "# Document Frequency = 1\n",
    "# Term Frequency = 1\n",
    "# For smooth_idf=False: idf(t) = log [ n / df(t) ] + 1 \n",
    "log10(4 / 1) + 1"
   ]
  },
  {
   "cell_type": "markdown",
   "metadata": {
    "tags": []
   },
   "source": [
    "# `TfidfTransformer`"
   ]
  },
  {
   "cell_type": "code",
   "execution_count": 17,
   "metadata": {},
   "outputs": [],
   "source": [
    "from sklearn.feature_extraction.text import TfidfTransformer\n",
    "\n",
    "# initialize tf-idf transformer object\n",
    "tfidfTransformer = TfidfTransformer(smooth_idf=False)"
   ]
  },
  {
   "cell_type": "code",
   "execution_count": 18,
   "metadata": {},
   "outputs": [],
   "source": [
    "# use counts from count vectorizer results to compute tf-idf values\n",
    "tfidf = tfidfTransformer.fit_transform(X)"
   ]
  },
  {
   "cell_type": "code",
   "execution_count": 19,
   "metadata": {},
   "outputs": [
    {
     "data": {
      "text/plain": [
       "array([[0.66064766, 0.        , 0.3564959 , 0.        , 0.66064766,\n",
       "        0.        , 0.        , 0.        ],\n",
       "       [0.        , 0.52964479, 0.40280852, 0.74647284, 0.        ,\n",
       "        0.        , 0.        , 0.        ],\n",
       "       [0.        , 0.57866699, 0.        , 0.        , 0.        ,\n",
       "        0.81556393, 0.        , 0.        ],\n",
       "       [0.        , 0.        , 0.23458928, 0.        , 0.        ,\n",
       "        0.        , 0.43473391, 0.86946782]])"
      ]
     },
     "execution_count": 19,
     "metadata": {},
     "output_type": "execute_result"
    }
   ],
   "source": [
    "# convert sparse matrix to numpy array to view\n",
    "tfidf.toarray()"
   ]
  },
  {
   "cell_type": "code",
   "execution_count": 20,
   "metadata": {},
   "outputs": [
    {
     "data": {
      "text/html": [
       "<div>\n",
       "<style scoped>\n",
       "    .dataframe tbody tr th:only-of-type {\n",
       "        vertical-align: middle;\n",
       "    }\n",
       "\n",
       "    .dataframe tbody tr th {\n",
       "        vertical-align: top;\n",
       "    }\n",
       "\n",
       "    .dataframe thead th {\n",
       "        text-align: right;\n",
       "    }\n",
       "</style>\n",
       "<table border=\"1\" class=\"dataframe\">\n",
       "  <thead>\n",
       "    <tr style=\"text-align: right;\">\n",
       "      <th></th>\n",
       "      <th>hous</th>\n",
       "      <th>lamb</th>\n",
       "      <th>littl</th>\n",
       "      <th>mari</th>\n",
       "      <th>prairi</th>\n",
       "      <th>silenc</th>\n",
       "      <th>star</th>\n",
       "      <th>twinkl</th>\n",
       "    </tr>\n",
       "  </thead>\n",
       "  <tbody>\n",
       "    <tr>\n",
       "      <th>Little House on the Prairie</th>\n",
       "      <td>0.660648</td>\n",
       "      <td>0.000000</td>\n",
       "      <td>0.356496</td>\n",
       "      <td>0.000000</td>\n",
       "      <td>0.660648</td>\n",
       "      <td>0.000000</td>\n",
       "      <td>0.000000</td>\n",
       "      <td>0.000000</td>\n",
       "    </tr>\n",
       "    <tr>\n",
       "      <th>Mary had a Little Lamb</th>\n",
       "      <td>0.000000</td>\n",
       "      <td>0.529645</td>\n",
       "      <td>0.402809</td>\n",
       "      <td>0.746473</td>\n",
       "      <td>0.000000</td>\n",
       "      <td>0.000000</td>\n",
       "      <td>0.000000</td>\n",
       "      <td>0.000000</td>\n",
       "    </tr>\n",
       "    <tr>\n",
       "      <th>The Silence of the Lambs</th>\n",
       "      <td>0.000000</td>\n",
       "      <td>0.578667</td>\n",
       "      <td>0.000000</td>\n",
       "      <td>0.000000</td>\n",
       "      <td>0.000000</td>\n",
       "      <td>0.815564</td>\n",
       "      <td>0.000000</td>\n",
       "      <td>0.000000</td>\n",
       "    </tr>\n",
       "    <tr>\n",
       "      <th>Twinkle Twinkle Little Star</th>\n",
       "      <td>0.000000</td>\n",
       "      <td>0.000000</td>\n",
       "      <td>0.234589</td>\n",
       "      <td>0.000000</td>\n",
       "      <td>0.000000</td>\n",
       "      <td>0.000000</td>\n",
       "      <td>0.434734</td>\n",
       "      <td>0.869468</td>\n",
       "    </tr>\n",
       "  </tbody>\n",
       "</table>\n",
       "</div>"
      ],
      "text/plain": [
       "                                 hous      lamb     littl      mari    prairi  \\\n",
       "Little House on the Prairie  0.660648  0.000000  0.356496  0.000000  0.660648   \n",
       "Mary had a Little Lamb       0.000000  0.529645  0.402809  0.746473  0.000000   \n",
       "The Silence of the Lambs     0.000000  0.578667  0.000000  0.000000  0.000000   \n",
       "Twinkle Twinkle Little Star  0.000000  0.000000  0.234589  0.000000  0.000000   \n",
       "\n",
       "                               silenc      star    twinkl  \n",
       "Little House on the Prairie  0.000000  0.000000  0.000000  \n",
       "Mary had a Little Lamb       0.000000  0.000000  0.000000  \n",
       "The Silence of the Lambs     0.815564  0.000000  0.000000  \n",
       "Twinkle Twinkle Little Star  0.000000  0.434734  0.869468  "
      ]
     },
     "execution_count": 20,
     "metadata": {},
     "output_type": "execute_result"
    }
   ],
   "source": [
    "pd.DataFrame(index=corpus, columns=countVectorizer.get_feature_names_out(), data=tfidf.toarray())"
   ]
  },
  {
   "cell_type": "markdown",
   "metadata": {},
   "source": [
    "# `TfidfVectorizer`\n",
    "`TfidfVectorizer` = `CountVectorizer` + `TfidfTransformer`"
   ]
  },
  {
   "cell_type": "code",
   "execution_count": 21,
   "metadata": {},
   "outputs": [],
   "source": [
    "from sklearn.feature_extraction.text import TfidfVectorizer\n",
    "\n",
    "# initialize tf-idf vectorizer object\n",
    "tfidfVectorizer = TfidfVectorizer(tokenizer=tokenize, smooth_idf=False)"
   ]
  },
  {
   "cell_type": "code",
   "execution_count": 22,
   "metadata": {},
   "outputs": [],
   "source": [
    "# compute bag of word counts and tf-idf values\n",
    "X = tfidfVectorizer.fit_transform(corpus)"
   ]
  },
  {
   "cell_type": "code",
   "execution_count": 23,
   "metadata": {},
   "outputs": [
    {
     "data": {
      "text/plain": [
       "array([[0.66064766, 0.        , 0.3564959 , 0.        , 0.66064766,\n",
       "        0.        , 0.        , 0.        ],\n",
       "       [0.        , 0.52964479, 0.40280852, 0.74647284, 0.        ,\n",
       "        0.        , 0.        , 0.        ],\n",
       "       [0.        , 0.57866699, 0.        , 0.        , 0.        ,\n",
       "        0.81556393, 0.        , 0.        ],\n",
       "       [0.        , 0.        , 0.23458928, 0.        , 0.        ,\n",
       "        0.        , 0.43473391, 0.86946782]])"
      ]
     },
     "execution_count": 23,
     "metadata": {},
     "output_type": "execute_result"
    }
   ],
   "source": [
    "# convert sparse matrix to numpy array to view\n",
    "X.toarray()"
   ]
  },
  {
   "cell_type": "code",
   "execution_count": 24,
   "metadata": {},
   "outputs": [
    {
     "data": {
      "text/html": [
       "<div>\n",
       "<style scoped>\n",
       "    .dataframe tbody tr th:only-of-type {\n",
       "        vertical-align: middle;\n",
       "    }\n",
       "\n",
       "    .dataframe tbody tr th {\n",
       "        vertical-align: top;\n",
       "    }\n",
       "\n",
       "    .dataframe thead th {\n",
       "        text-align: right;\n",
       "    }\n",
       "</style>\n",
       "<table border=\"1\" class=\"dataframe\">\n",
       "  <thead>\n",
       "    <tr style=\"text-align: right;\">\n",
       "      <th></th>\n",
       "      <th>hous</th>\n",
       "      <th>lamb</th>\n",
       "      <th>littl</th>\n",
       "      <th>mari</th>\n",
       "      <th>prairi</th>\n",
       "      <th>silenc</th>\n",
       "      <th>star</th>\n",
       "      <th>twinkl</th>\n",
       "    </tr>\n",
       "  </thead>\n",
       "  <tbody>\n",
       "    <tr>\n",
       "      <th>Little House on the Prairie</th>\n",
       "      <td>0.660648</td>\n",
       "      <td>0.000000</td>\n",
       "      <td>0.356496</td>\n",
       "      <td>0.000000</td>\n",
       "      <td>0.660648</td>\n",
       "      <td>0.000000</td>\n",
       "      <td>0.000000</td>\n",
       "      <td>0.000000</td>\n",
       "    </tr>\n",
       "    <tr>\n",
       "      <th>Mary had a Little Lamb</th>\n",
       "      <td>0.000000</td>\n",
       "      <td>0.529645</td>\n",
       "      <td>0.402809</td>\n",
       "      <td>0.746473</td>\n",
       "      <td>0.000000</td>\n",
       "      <td>0.000000</td>\n",
       "      <td>0.000000</td>\n",
       "      <td>0.000000</td>\n",
       "    </tr>\n",
       "    <tr>\n",
       "      <th>The Silence of the Lambs</th>\n",
       "      <td>0.000000</td>\n",
       "      <td>0.578667</td>\n",
       "      <td>0.000000</td>\n",
       "      <td>0.000000</td>\n",
       "      <td>0.000000</td>\n",
       "      <td>0.815564</td>\n",
       "      <td>0.000000</td>\n",
       "      <td>0.000000</td>\n",
       "    </tr>\n",
       "    <tr>\n",
       "      <th>Twinkle Twinkle Little Star</th>\n",
       "      <td>0.000000</td>\n",
       "      <td>0.000000</td>\n",
       "      <td>0.234589</td>\n",
       "      <td>0.000000</td>\n",
       "      <td>0.000000</td>\n",
       "      <td>0.000000</td>\n",
       "      <td>0.434734</td>\n",
       "      <td>0.869468</td>\n",
       "    </tr>\n",
       "  </tbody>\n",
       "</table>\n",
       "</div>"
      ],
      "text/plain": [
       "                                 hous      lamb     littl      mari    prairi  \\\n",
       "Little House on the Prairie  0.660648  0.000000  0.356496  0.000000  0.660648   \n",
       "Mary had a Little Lamb       0.000000  0.529645  0.402809  0.746473  0.000000   \n",
       "The Silence of the Lambs     0.000000  0.578667  0.000000  0.000000  0.000000   \n",
       "Twinkle Twinkle Little Star  0.000000  0.000000  0.234589  0.000000  0.000000   \n",
       "\n",
       "                               silenc      star    twinkl  \n",
       "Little House on the Prairie  0.000000  0.000000  0.000000  \n",
       "Mary had a Little Lamb       0.000000  0.000000  0.000000  \n",
       "The Silence of the Lambs     0.815564  0.000000  0.000000  \n",
       "Twinkle Twinkle Little Star  0.000000  0.434734  0.869468  "
      ]
     },
     "execution_count": 24,
     "metadata": {},
     "output_type": "execute_result"
    }
   ],
   "source": [
    "pd.DataFrame(index=corpus, columns=tfidfVectorizer.get_feature_names_out(), data=X.toarray())"
   ]
  },
  {
   "cell_type": "code",
   "execution_count": null,
   "metadata": {},
   "outputs": [],
   "source": []
  }
 ],
 "metadata": {
  "kernelspec": {
   "display_name": "Python 3 (ipykernel)",
   "language": "python",
   "name": "python3"
  },
  "language_info": {
   "codemirror_mode": {
    "name": "ipython",
    "version": 3
   },
   "file_extension": ".py",
   "mimetype": "text/x-python",
   "name": "python",
   "nbconvert_exporter": "python",
   "pygments_lexer": "ipython3",
   "version": "3.9.9"
  }
 },
 "nbformat": 4,
 "nbformat_minor": 4
}
