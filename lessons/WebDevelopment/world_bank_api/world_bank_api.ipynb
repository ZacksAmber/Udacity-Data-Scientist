{
 "cells": [
  {
   "cell_type": "markdown",
   "metadata": {},
   "source": [
    "# Using APIs with Python\n",
    "\n",
    "This Ipython notebook shows you how to use the World Bank API with the Python requests library. At the end there is a short exercise for you.\n",
    "\n",
    "To access APIs in Python, you can use the [requests library](http://docs.python-requests.org/en/master/user/install/). \n",
    "\n",
    "To install, you can go in a terminal and type:\n",
    "```\n",
    "pip install pipenv\n",
    "pipenv install requests\n",
    "```\n",
    "\n",
    "When you use the requests library, it's like putting an API url in a browser except now Python does this behind the scenes programatically and then stores the results in a variable. The classroom workspaces already have the requests library installed. Here is a demonstration of how the request library works."
   ]
  },
  {
   "cell_type": "code",
   "execution_count": 1,
   "metadata": {},
   "outputs": [
    {
     "data": {
      "text/plain": [
       "'ï»¿<?xml version=\"1.0\" encoding=\"utf-8\"?>\\r\\n<wb:data page=\"1\" pages=\"2\" per_page=\"50\" total=\"61\" sourceid=\"2\" sourcename=\"World Development Indicators\" lastupdated=\"2021-12-16\" xmlns:wb=\"http://www.worldbank.org\">\\r\\n  <wb:data>\\r\\n    <wb:indicator id=\"NY.GDP.MKTP.CD\">GDP (current US$)</wb:indicator>\\r\\n    <wb:country id=\"BR\">Brazil</wb:country>\\r\\n    <wb:countryiso3code>BRA</wb:countryiso3code>\\r\\n    <wb:date>2020</wb:date>\\r\\n    <wb:value>1444733258971.65</wb:value>\\r\\n    <wb:unit />\\r\\n    <wb:obs_status />\\r\\n    <wb:decimal>0</wb:decimal>\\r\\n  </wb:data>\\r\\n  <wb:data>\\r\\n    <wb:indicator id=\"NY.GDP.MKTP.CD\">GDP (current US$)</wb:indicator>\\r\\n    <wb:country id=\"BR\">Brazil</wb:country>\\r\\n    <wb:countryiso3code>BRA</wb:countryiso3code>\\r\\n    <wb:date>2019</wb:date>\\r\\n    <wb:value>1877824273720.78</wb:value>\\r\\n    <wb:unit />\\r\\n    <wb:obs_status />\\r\\n    <wb:decimal>0</wb:decimal>\\r\\n  </wb:data>\\r\\n  <wb:data>\\r\\n    <wb:indicator id=\"NY.GDP.MKTP.CD\">GDP (current US$)</wb:indicator>\\r\\n    <wb:country id=\"BR\">Brazil</wb:country>\\r\\n    <wb:countryiso3code>BRA</wb:countryiso3code>\\r\\n    <wb:date>2018</wb:date>\\r\\n    <wb:value>1916933708381.89</wb:value>\\r\\n    <wb:unit />\\r\\n    <wb:obs_status />\\r\\n    <wb:decimal>0</wb:decimal>\\r\\n  </wb:data>\\r\\n  <wb:data>\\r\\n    <wb:indicator id=\"NY.GDP.MKTP.CD\">GDP (current US$)</wb:indicator>\\r\\n    <wb:country id=\"BR\">Brazil</wb:country>\\r\\n    <wb:countryiso3code>BRA</wb:countryiso3code>\\r\\n    <wb:date>2017</wb:date>\\r\\n    <wb:value>2063514688761.98</wb:value>\\r\\n    <wb:unit />\\r\\n    <wb:obs_status />\\r\\n    <wb:decimal>0</wb:decimal>\\r\\n  </wb:data>\\r\\n  <wb:data>\\r\\n    <wb:indicator id=\"NY.GDP.MKTP.CD\">GDP (current US$)</wb:indicator>\\r\\n    <wb:country id=\"BR\">Brazil</wb:country>\\r\\n    <wb:countryiso3code>BRA</wb:countryiso3code>\\r\\n    <wb:date>2016</wb:date>\\r\\n    <wb:value>1795693265810.23</wb:value>\\r\\n    <wb:unit />\\r\\n    <wb:obs_status />\\r\\n    <wb:decimal>0</wb:decimal>\\r\\n  </wb:data>\\r\\n  <wb:data>\\r\\n    <wb:indicator id=\"NY.GDP.MKTP.CD\">GDP (current US$)</wb:indicator>\\r\\n    <wb:country id=\"BR\">Brazil</wb:country>\\r\\n    <wb:countryiso3code>BRA</wb:countryiso3code>\\r\\n    <wb:date>2015</wb:date>\\r\\n    <wb:value>1802211999538.68</wb:value>\\r\\n    <wb:unit />\\r\\n    <wb:obs_status />\\r\\n    <wb:decimal>0</wb:decimal>\\r\\n  </wb:data>\\r\\n  <wb:data>\\r\\n    <wb:indicator id=\"NY.GDP.MKTP.CD\">GDP (current US$)</wb:indicator>\\r\\n    <wb:country id=\"BR\">Brazil</wb:country>\\r\\n    <wb:countryiso3code>BRA</wb:countryiso3code>\\r\\n    <wb:date>2014</wb:date>\\r\\n    <wb:value>2456043766028.73</wb:value>\\r\\n    <wb:unit />\\r\\n    <wb:obs_status />\\r\\n    <wb:decimal>0</wb:decimal>\\r\\n  </wb:data>\\r\\n  <wb:data>\\r\\n    <wb:indicator id=\"NY.GDP.MKTP.CD\">GDP (current US$)</wb:indicator>\\r\\n    <wb:country id=\"BR\">Brazil</wb:country>\\r\\n    <wb:countryiso3code>BRA</wb:countryiso3code>\\r\\n    <wb:date>2013</wb:date>\\r\\n    <wb:value>2472819362216.69</wb:value>\\r\\n    <wb:unit />\\r\\n    <wb:obs_status />\\r\\n    <wb:decimal>0</wb:decimal>\\r\\n  </wb:data>\\r\\n  <wb:data>\\r\\n    <wb:indicator id=\"NY.GDP.MKTP.CD\">GDP (current US$)</wb:indicator>\\r\\n    <wb:country id=\"BR\">Brazil</wb:country>\\r\\n    <wb:countryiso3code>BRA</wb:countryiso3code>\\r\\n    <wb:date>2012</wb:date>\\r\\n    <wb:value>2465228293894.01</wb:value>\\r\\n    <wb:unit />\\r\\n    <wb:obs_status />\\r\\n    <wb:decimal>0</wb:decimal>\\r\\n  </wb:data>\\r\\n  <wb:data>\\r\\n    <wb:indicator id=\"NY.GDP.MKTP.CD\">GDP (current US$)</wb:indicator>\\r\\n    <wb:country id=\"BR\">Brazil</wb:country>\\r\\n    <wb:countryiso3code>BRA</wb:countryiso3code>\\r\\n    <wb:date>2011</wb:date>\\r\\n    <wb:value>2616156606666.62</wb:value>\\r\\n    <wb:unit />\\r\\n    <wb:obs_status />\\r\\n    <wb:decimal>0</wb:decimal>\\r\\n  </wb:data>\\r\\n  <wb:data>\\r\\n    <wb:indicator id=\"NY.GDP.MKTP.CD\">GDP (current US$)</wb:indicator>\\r\\n    <wb:country id=\"BR\">Brazil</wb:country>\\r\\n    <wb:countryiso3code>BRA</wb:countryiso3code>\\r\\n    <wb:date>2010</wb:date>\\r\\n    <wb:value>2208838108577.09</wb:value>\\r\\n    <wb:unit />\\r\\n    <wb:obs_status />\\r\\n    <wb:decimal>0</wb:decimal>\\r\\n  </wb:data>\\r\\n  <wb:data>\\r\\n    <wb:indicator id=\"NY.GDP.MKTP.CD\">GDP (current US$)</wb:indicator>\\r\\n    <wb:country id=\"BR\">Brazil</wb:country>\\r\\n    <wb:countryiso3code>BRA</wb:countryiso3code>\\r\\n    <wb:date>2009</wb:date>\\r\\n    <wb:value>1666996294372.87</wb:value>\\r\\n    <wb:unit />\\r\\n    <wb:obs_status />\\r\\n    <wb:decimal>0</wb:decimal>\\r\\n  </wb:data>\\r\\n  <wb:data>\\r\\n    <wb:indicator id=\"NY.GDP.MKTP.CD\">GDP (current US$)</wb:indicator>\\r\\n    <wb:country id=\"BR\">Brazil</wb:country>\\r\\n    <wb:countryiso3code>BRA</wb:countryiso3code>\\r\\n    <wb:date>2008</wb:date>\\r\\n    <wb:value>1695855391810.9</wb:value>\\r\\n    <wb:unit />\\r\\n    <wb:obs_status />\\r\\n    <wb:decimal>0</wb:decimal>\\r\\n  </wb:data>\\r\\n  <wb:data>\\r\\n    <wb:indicator id=\"NY.GDP.MKTP.CD\">GDP (current US$)</wb:indicator>\\r\\n    <wb:country id=\"BR\">Brazil</wb:country>\\r\\n    <wb:countryiso3code>BRA</wb:countryiso3code>\\r\\n    <wb:date>2007</wb:date>\\r\\n    <wb:value>1397114247331.17</wb:value>\\r\\n    <wb:unit />\\r\\n    <wb:obs_status />\\r\\n    <wb:decimal>0</wb:decimal>\\r\\n  </wb:data>\\r\\n  <wb:data>\\r\\n    <wb:indicator id=\"NY.GDP.MKTP.CD\">GDP (current US$)</wb:indicator>\\r\\n    <wb:country id=\"BR\">Brazil</wb:country>\\r\\n    <wb:countryiso3code>BRA</wb:countryiso3code>\\r\\n    <wb:date>2006</wb:date>\\r\\n    <wb:value>1107626711406.63</wb:value>\\r\\n    <wb:unit />\\r\\n    <wb:obs_status />\\r\\n    <wb:decimal>0</wb:decimal>\\r\\n  </wb:data>\\r\\n  <wb:data>\\r\\n    <wb:indicator id=\"NY.GDP.MKTP.CD\">GDP (current US$)</wb:indicator>\\r\\n    <wb:country id=\"BR\">Brazil</wb:country>\\r\\n    <wb:countryiso3code>BRA</wb:countryiso3code>\\r\\n    <wb:date>2005</wb:date>\\r\\n    <wb:value>891633826603.377</wb:value>\\r\\n    <wb:unit />\\r\\n    <wb:obs_status />\\r\\n    <wb:decimal>0</wb:decimal>\\r\\n  </wb:data>\\r\\n  <wb:data>\\r\\n    <wb:indicator id=\"NY.GDP.MKTP.CD\">GDP (current US$)</wb:indicator>\\r\\n    <wb:country id=\"BR\">Brazil</wb:country>\\r\\n    <wb:countryiso3code>BRA</wb:countryiso3code>\\r\\n    <wb:date>2004</wb:date>\\r\\n    <wb:value>669289321944.516</wb:value>\\r\\n    <wb:unit />\\r\\n    <wb:obs_status />\\r\\n    <wb:decimal>0</wb:decimal>\\r\\n  </wb:data>\\r\\n  <wb:data>\\r\\n    <wb:indicator id=\"NY.GDP.MKTP.CD\">GDP (current US$)</wb:indicator>\\r\\n    <wb:country id=\"BR\">Brazil</wb:country>\\r\\n    <wb:countryiso3code>BRA</wb:countryiso3code>\\r\\n    <wb:date>2003</wb:date>\\r\\n    <wb:value>558233724164.711</wb:value>\\r\\n    <wb:unit />\\r\\n    <wb:obs_status />\\r\\n    <wb:decimal>0</wb:decimal>\\r\\n  </wb:data>\\r\\n  <wb:data>\\r\\n    <wb:indicator id=\"NY.GDP.MKTP.CD\">GDP (current US$)</wb:indicator>\\r\\n    <wb:country id=\"BR\">Brazil</wb:country>\\r\\n    <wb:countryiso3code>BRA</wb:countryiso3code>\\r\\n    <wb:date>2002</wb:date>\\r\\n    <wb:value>509795270685.19</wb:value>\\r\\n    <wb:unit />\\r\\n    <wb:obs_status />\\r\\n    <wb:decimal>0</wb:decimal>\\r\\n  </wb:data>\\r\\n  <wb:data>\\r\\n    <wb:indicator id=\"NY.GDP.MKTP.CD\">GDP (current US$)</wb:indicator>\\r\\n    <wb:country id=\"BR\">Brazil</wb:country>\\r\\n    <wb:countryiso3code>BRA</wb:countryiso3code>\\r\\n    <wb:date>2001</wb:date>\\r\\n    <wb:value>559983704094.17</wb:value>\\r\\n    <wb:unit />\\r\\n    <wb:obs_status />\\r\\n    <wb:decimal>0</wb:decimal>\\r\\n  </wb:data>\\r\\n  <wb:data>\\r\\n    <wb:indicator id=\"NY.GDP.MKTP.CD\">GDP (current US$)</wb:indicator>\\r\\n    <wb:country id=\"BR\">Brazil</wb:country>\\r\\n    <wb:countryiso3code>BRA</wb:countryiso3code>\\r\\n    <wb:date>2000</wb:date>\\r\\n    <wb:value>655448188259.351</wb:value>\\r\\n    <wb:unit />\\r\\n    <wb:obs_status />\\r\\n    <wb:decimal>0</wb:decimal>\\r\\n  </wb:data>\\r\\n  <wb:data>\\r\\n    <wb:indicator id=\"NY.GDP.MKTP.CD\">GDP (current US$)</wb:indicator>\\r\\n    <wb:country id=\"BR\">Brazil</wb:country>\\r\\n    <wb:countryiso3code>BRA</wb:countryiso3code>\\r\\n    <wb:date>1999</wb:date>\\r\\n    <wb:value>599642075004.471</wb:value>\\r\\n    <wb:unit />\\r\\n    <wb:obs_status />\\r\\n    <wb:decimal>0</wb:decimal>\\r\\n  </wb:data>\\r\\n  <wb:data>\\r\\n    <wb:indicator id=\"NY.GDP.MKTP.CD\">GDP (current US$)</wb:indicator>\\r\\n    <wb:country id=\"BR\">Brazil</wb:country>\\r\\n    <wb:countryiso3code>BRA</wb:countryiso3code>\\r\\n    <wb:date>1998</wb:date>\\r\\n    <wb:value>863711007325.493</wb:value>\\r\\n    <wb:unit />\\r\\n    <wb:obs_status />\\r\\n    <wb:decimal>0</wb:decimal>\\r\\n  </wb:data>\\r\\n  <wb:data>\\r\\n    <wb:indicator id=\"NY.GDP.MKTP.CD\">GDP (current US$)</wb:indicator>\\r\\n    <wb:country id=\"BR\">Brazil</wb:country>\\r\\n    <wb:countryiso3code>BRA</wb:countryiso3code>\\r\\n    <wb:date>1997</wb:date>\\r\\n    <wb:value>883206452795.124</wb:value>\\r\\n    <wb:unit />\\r\\n    <wb:obs_status />\\r\\n    <wb:decimal>0</wb:decimal>\\r\\n  </wb:data>\\r\\n  <wb:data>\\r\\n    <wb:indicator id=\"NY.GDP.MKTP.CD\">GDP (current US$)</wb:indicator>\\r\\n    <wb:country id=\"BR\">Brazil</wb:country>\\r\\n    <wb:countryiso3code>BRA</wb:countryiso3code>\\r\\n    <wb:date>1996</wb:date>\\r\\n    <wb:value>850426433004.077</wb:value>\\r\\n    <wb:unit />\\r\\n    <wb:obs_status />\\r\\n    <wb:decimal>0</wb:decimal>\\r\\n  </wb:data>\\r\\n  <wb:data>\\r\\n    <wb:indicator id=\"NY.GDP.MKTP.CD\">GDP (current US$)</wb:indicator>\\r\\n    <wb:country id=\"BR\">Brazil</wb:country>\\r\\n    <wb:countryiso3code>BRA</wb:countryiso3code>\\r\\n    <wb:date>1995</wb:date>\\r\\n    <wb:value>769333330368.987</wb:value>\\r\\n    <wb:unit />\\r\\n    <wb:obs_status />\\r\\n    <wb:decimal>0</wb:decimal>\\r\\n  </wb:data>\\r\\n  <wb:data>\\r\\n    <wb:indicator id=\"NY.GDP.MKTP.CD\">GDP (current US$)</wb:indicator>\\r\\n    <wb:country id=\"BR\">Brazil</wb:country>\\r\\n    <wb:countryiso3code>BRA</wb:countryiso3code>\\r\\n    <wb:date>1994</wb:date>\\r\\n    <wb:value>525369851353.742</wb:value>\\r\\n    <wb:unit />\\r\\n    <wb:obs_status />\\r\\n    <wb:decimal>0</wb:decimal>\\r\\n  </wb:data>\\r\\n  <wb:data>\\r\\n    <wb:indicator id=\"NY.GDP.MKTP.CD\">GDP (current US$)</wb:indicator>\\r\\n    <wb:country id=\"BR\">Brazil</wb:country>\\r\\n    <wb:countryiso3code>BRA</wb:countryiso3code>\\r\\n    <wb:date>1993</wb:date>\\r\\n    <wb:value>368295777770.079</wb:value>\\r\\n    <wb:unit />\\r\\n    <wb:obs_status />\\r\\n    <wb:decimal>0</wb:decimal>\\r\\n  </wb:data>\\r\\n  <wb:data>\\r\\n    <wb:indicator id=\"NY.GDP.MKTP.CD\">GDP (current US$)</wb:indicator>\\r\\n    <wb:country id=\"BR\">Brazil</wb:country>\\r\\n    <wb:countryiso3code>BRA</wb:countryiso3code>\\r\\n    <wb:date>1992</wb:date>\\r\\n    <wb:value>328187944300.908</wb:value>\\r\\n    <wb:unit />\\r\\n    <wb:obs_status />\\r\\n    <wb:decimal>0</wb:decimal>\\r\\n  </wb:data>\\r\\n  <wb:data>\\r\\n    <wb:indicator id=\"NY.GDP.MKTP.CD\">GDP (current US$)</wb:indicator>\\r\\n    <wb:country id=\"BR\">Brazil</wb:country>\\r\\n    <wb:countryiso3code>BRA</wb:countryiso3code>\\r\\n    <wb:date>1991</wb:date>\\r\\n    <wb:value>342609227209.645</wb:value>\\r\\n    <wb:unit />\\r\\n    <wb:obs_status />\\r\\n    <wb:decimal>0</wb:decimal>\\r\\n  </wb:data>\\r\\n  <wb:data>\\r\\n    <wb:indicator id=\"NY.GDP.MKTP.CD\">GDP (current US$)</wb:indicator>\\r\\n    <wb:country id=\"BR\">Brazil</wb:country>\\r\\n    <wb:countryiso3code>BRA</wb:countryiso3code>\\r\\n    <wb:date>1990</wb:date>\\r\\n    <wb:value>390725626002.866</wb:value>\\r\\n    <wb:unit />\\r\\n    <wb:obs_status />\\r\\n    <wb:decimal>0</wb:decimal>\\r\\n  </wb:data>\\r\\n  <wb:data>\\r\\n    <wb:indicator id=\"NY.GDP.MKTP.CD\">GDP (current US$)</wb:indicator>\\r\\n    <wb:country id=\"BR\">Brazil</wb:country>\\r\\n    <wb:countryiso3code>BRA</wb:countryiso3code>\\r\\n    <wb:date>1989</wb:date>\\r\\n    <wb:value>347028139590.227</wb:value>\\r\\n    <wb:unit />\\r\\n    <wb:obs_status />\\r\\n    <wb:decimal>0</wb:decimal>\\r\\n  </wb:data>\\r\\n  <wb:data>\\r\\n    <wb:indicator id=\"NY.GDP.MKTP.CD\">GDP (current US$)</wb:indicator>\\r\\n    <wb:country id=\"BR\">Brazil</wb:country>\\r\\n    <wb:countryiso3code>BRA</wb:countryiso3code>\\r\\n    <wb:date>1988</wb:date>\\r\\n    <wb:value>308333568571.493</wb:value>\\r\\n    <wb:unit />\\r\\n    <wb:obs_status />\\r\\n    <wb:decimal>0</wb:decimal>\\r\\n  </wb:data>\\r\\n  <wb:data>\\r\\n    <wb:indicator id=\"NY.GDP.MKTP.CD\">GDP (current US$)</wb:indicator>\\r\\n    <wb:country id=\"BR\">Brazil</wb:country>\\r\\n    <wb:countryiso3code>BRA</wb:countryiso3code>\\r\\n    <wb:date>1987</wb:date>\\r\\n    <wb:value>283056833878.212</wb:value>\\r\\n    <wb:unit />\\r\\n    <wb:obs_status />\\r\\n    <wb:decimal>0</wb:decimal>\\r\\n  </wb:data>\\r\\n  <wb:data>\\r\\n    <wb:indicator id=\"NY.GDP.MKTP.CD\">GDP (current US$)</wb:indicator>\\r\\n    <wb:country id=\"BR\">Brazil</wb:country>\\r\\n    <wb:countryiso3code>BRA</wb:countryiso3code>\\r\\n    <wb:date>1986</wb:date>\\r\\n    <wb:value>256480855343.617</wb:value>\\r\\n    <wb:unit />\\r\\n    <wb:obs_status />\\r\\n    <wb:decimal>0</wb:decimal>\\r\\n  </wb:data>\\r\\n  <wb:data>\\r\\n    <wb:indicator id=\"NY.GDP.MKTP.CD\">GDP (current US$)</wb:indicator>\\r\\n    <wb:country id=\"BR\">Brazil</wb:country>\\r\\n    <wb:countryiso3code>BRA</wb:countryiso3code>\\r\\n    <wb:date>1985</wb:date>\\r\\n    <wb:value>210879841322.306</wb:value>\\r\\n    <wb:unit />\\r\\n    <wb:obs_status />\\r\\n    <wb:decimal>0</wb:decimal>\\r\\n  </wb:data>\\r\\n  <wb:data>\\r\\n    <wb:indicator id=\"NY.GDP.MKTP.CD\">GDP (current US$)</wb:indicator>\\r\\n    <wb:country id=\"BR\">Brazil</wb:country>\\r\\n    <wb:countryiso3code>BRA</wb:countryiso3code>\\r\\n    <wb:date>1984</wb:date>\\r\\n    <wb:value>188339974086.58</wb:value>\\r\\n    <wb:unit />\\r\\n    <wb:obs_status />\\r\\n    <wb:decimal>0</wb:decimal>\\r\\n  </wb:data>\\r\\n  <wb:data>\\r\\n    <wb:indicator id=\"NY.GDP.MKTP.CD\">GDP (current US$)</wb:indicator>\\r\\n    <wb:country id=\"BR\">Brazil</wb:country>\\r\\n    <wb:countryiso3code>BRA</wb:countryiso3code>\\r\\n    <wb:date>1983</wb:date>\\r\\n    <wb:value>189656506321.431</wb:value>\\r\\n    <wb:unit />\\r\\n    <wb:obs_status />\\r\\n    <wb:decimal>0</wb:decimal>\\r\\n  </wb:data>\\r\\n  <wb:data>\\r\\n    <wb:indicator id=\"NY.GDP.MKTP.CD\">GDP (current US$)</wb:indicator>\\r\\n    <wb:country id=\"BR\">Brazil</wb:country>\\r\\n    <wb:countryiso3code>BRA</wb:countryiso3code>\\r\\n    <wb:date>1982</wb:date>\\r\\n    <wb:value>271314113768.417</wb:value>\\r\\n    <wb:unit />\\r\\n    <wb:obs_status />\\r\\n    <wb:decimal>0</wb:decimal>\\r\\n  </wb:data>\\r\\n  <wb:data>\\r\\n    <wb:indicator id=\"NY.GDP.MKTP.CD\">GDP (current US$)</wb:indicator>\\r\\n    <wb:country id=\"BR\">Brazil</wb:country>\\r\\n    <wb:countryiso3code>BRA</wb:countryiso3code>\\r\\n    <wb:date>1981</wb:date>\\r\\n    <wb:value>258015174748.648</wb:value>\\r\\n    <wb:unit />\\r\\n    <wb:obs_status />\\r\\n    <wb:decimal>0</wb:decimal>\\r\\n  </wb:data>\\r\\n  <wb:data>\\r\\n    <wb:indicator id=\"NY.GDP.MKTP.CD\">GDP (current US$)</wb:indicator>\\r\\n    <wb:country id=\"BR\">Brazil</wb:country>\\r\\n    <wb:countryiso3code>BRA</wb:countryiso3code>\\r\\n    <wb:date>1980</wb:date>\\r\\n    <wb:value>237393489892.637</wb:value>\\r\\n    <wb:unit />\\r\\n    <wb:obs_status />\\r\\n    <wb:decimal>0</wb:decimal>\\r\\n  </wb:data>\\r\\n  <wb:data>\\r\\n    <wb:indicator id=\"NY.GDP.MKTP.CD\">GDP (current US$)</wb:indicator>\\r\\n    <wb:country id=\"BR\">Brazil</wb:country>\\r\\n    <wb:countryiso3code>BRA</wb:countryiso3code>\\r\\n    <wb:date>1979</wb:date>\\r\\n    <wb:value>221338204480.222</wb:value>\\r\\n    <wb:unit />\\r\\n    <wb:obs_status />\\r\\n    <wb:decimal>0</wb:decimal>\\r\\n  </wb:data>\\r\\n  <wb:data>\\r\\n    <wb:indicator id=\"NY.GDP.MKTP.CD\">GDP (current US$)</wb:indicator>\\r\\n    <wb:country id=\"BR\">Brazil</wb:country>\\r\\n    <wb:countryiso3code>BRA</wb:countryiso3code>\\r\\n    <wb:date>1978</wb:date>\\r\\n    <wb:value>200278646123.581</wb:value>\\r\\n    <wb:unit />\\r\\n    <wb:obs_status />\\r\\n    <wb:decimal>0</wb:decimal>\\r\\n  </wb:data>\\r\\n  <wb:data>\\r\\n    <wb:indicator id=\"NY.GDP.MKTP.CD\">GDP (current US$)</wb:indicator>\\r\\n    <wb:country id=\"BR\">Brazil</wb:country>\\r\\n    <wb:countryiso3code>BRA</wb:countryiso3code>\\r\\n    <wb:date>1977</wb:date>\\r\\n    <wb:value>176344101401.941</wb:value>\\r\\n    <wb:unit />\\r\\n    <wb:obs_status />\\r\\n    <wb:decimal>0</wb:decimal>\\r\\n  </wb:data>\\r\\n  <wb:data>\\r\\n    <wb:indicator id=\"NY.GDP.MKTP.CD\">GDP (current US$)</wb:indicator>\\r\\n    <wb:country id=\"BR\">Brazil</wb:country>\\r\\n    <wb:countryiso3code>BRA</wb:countryiso3code>\\r\\n    <wb:date>1976</wb:date>\\r\\n    <wb:value>153168949208.207</wb:value>\\r\\n    <wb:unit />\\r\\n    <wb:obs_status />\\r\\n    <wb:decimal>0</wb:decimal>\\r\\n  </wb:data>\\r\\n  <wb:data>\\r\\n    <wb:indicator id=\"NY.GDP.MKTP.CD\">GDP (current US$)</wb:indicator>\\r\\n    <wb:country id=\"BR\">Brazil</wb:country>\\r\\n    <wb:countryiso3code>BRA</wb:countryiso3code>\\r\\n    <wb:date>1975</wb:date>\\r\\n    <wb:value>129203555238.827</wb:value>\\r\\n    <wb:unit />\\r\\n    <wb:obs_status />\\r\\n    <wb:decimal>0</wb:decimal>\\r\\n  </wb:data>\\r\\n  <wb:data>\\r\\n    <wb:indicator id=\"NY.GDP.MKTP.CD\">GDP (current US$)</wb:indicator>\\r\\n    <wb:country id=\"BR\">Brazil</wb:country>\\r\\n    <wb:countryiso3code>BRA</wb:countryiso3code>\\r\\n    <wb:date>1974</wb:date>\\r\\n    <wb:value>109794519727.538</wb:value>\\r\\n    <wb:unit />\\r\\n    <wb:obs_status />\\r\\n    <wb:decimal>0</wb:decimal>\\r\\n  </wb:data>\\r\\n  <wb:data>\\r\\n    <wb:indicator id=\"NY.GDP.MKTP.CD\">GDP (current US$)</wb:indicator>\\r\\n    <wb:country id=\"BR\">Brazil</wb:country>\\r\\n    <wb:countryiso3code>BRA</wb:countryiso3code>\\r\\n    <wb:date>1973</wb:date>\\r\\n    <wb:value>83592275862.9982</wb:value>\\r\\n    <wb:unit />\\r\\n    <wb:obs_status />\\r\\n    <wb:decimal>0</wb:decimal>\\r\\n  </wb:data>\\r\\n  <wb:data>\\r\\n    <wb:indicator id=\"NY.GDP.MKTP.CD\">GDP (current US$)</wb:indicator>\\r\\n    <wb:country id=\"BR\">Brazil</wb:country>\\r\\n    <wb:countryiso3code>BRA</wb:countryiso3code>\\r\\n    <wb:date>1972</wb:date>\\r\\n    <wb:value>58434858374.8696</wb:value>\\r\\n    <wb:unit />\\r\\n    <wb:obs_status />\\r\\n    <wb:decimal>0</wb:decimal>\\r\\n  </wb:data>\\r\\n  <wb:data>\\r\\n    <wb:indicator id=\"NY.GDP.MKTP.CD\">GDP (current US$)</wb:indicator>\\r\\n    <wb:country id=\"BR\">Brazil</wb:country>\\r\\n    <wb:countryiso3code>BRA</wb:countryiso3code>\\r\\n    <wb:date>1971</wb:date>\\r\\n    <wb:value>48869830901.7878</wb:value>\\r\\n    <wb:unit />\\r\\n    <wb:obs_status />\\r\\n    <wb:decimal>0</wb:decimal>\\r\\n  </wb:data>\\r\\n</wb:data>'"
      ]
     },
     "execution_count": 1,
     "metadata": {},
     "output_type": "execute_result"
    }
   ],
   "source": [
    "import requests\n",
    "r = requests.get('http://api.worldbank.org/v2/countries/br/indicators/NY.GDP.MKTP.CD')\n",
    "r.text"
   ]
  },
  {
   "cell_type": "markdown",
   "metadata": {},
   "source": [
    "# Explanation of Results \n",
    "\n",
    "```\n",
    "import requests\n",
    "```\n",
    "\n",
    "This line imports the requests library.\n",
    "\n",
    "```\n",
    "r = requests.get('http://api.worldbank.org/v2/countries/br/indicators/NY.GDP.MKTP.CD')\n",
    "```\n",
    "\n",
    "The line `requests.get` sends out a \"get\" request to the url specified in parenthesis. The html standard specifies different types of [request methods](https://developer.mozilla.org/en-US/docs/Web/HTTP/Methods) with the most common one being \"get\". A \"get\" request is generally reserved for obtaining data from a server. For the World Bank API, you'll only need to make \"get\" requests. An API's documentation will generally tell you what type of requests to make.\n",
    "\n",
    "The last line of code outputs the results.\n",
    "```\n",
    "r.text\n",
    "``` \n",
    "\n",
    "In this case, the output is xml data. [XML](https://www.w3schools.com/xml/xml_whatis.asp) is a language for storing and transmitting data. XML was standardized in the late 1990s. A few years later, the JSON format came along and serves a similar purpose. JSON tends to be much easier to work with and luckily, the World Bank API can return data in json format by specifying the format parameters. \n",
    "\n",
    "Next, you'll see how to send parameters with your get request."
   ]
  },
  {
   "cell_type": "markdown",
   "metadata": {},
   "source": [
    "# Sending Parameters with the Get Request\n",
    "\n",
    "This url, `http://api.worldbank.org/v2/countries/br/indicators/NY.GDP.MKTP.CD`, obtains GDP data for Brazil. You specify the country name with the [2-character ISO code](http://www.nationsonline.org/oneworld/country_code_list.htm) and then specify the economic indicator that you want, which in this case is `NY.GDP.MKTP.CD`. \n",
    "\n",
    "To see all of the possible indicators, visit the [world bank indicator dashboard](https://data.worldbank.org/indicator?tab=all) or use the API address `http://api.worldbank.org/v2/indicators`.\n",
    "\n",
    "The url syntax is specific to the World Bank API. Other APIs might be different.\n",
    "\n",
    "When making a get request, you can add parameters to the end of the url with the following syntax:\n",
    "`http://api.worldbank.org/v2/countries/br/indicators/NY.GDP.MKTP.CD?format=json&per_page=500&date=1990:2015`\n",
    "\n",
    "where a question mark was added at the end of the url following by each parameter name and parameter values. The parameters are separated by the ampersand & sign. Adding parameters to a get request with the question mark ? and ampersand is the standard way for adding parameters to a get request.\n",
    "\n",
    "With the requests library, you can send this get request in one of two ways. The first way specifies the entire url in a single string.\n",
    "\n",
    "```\n",
    "r = requests.get('http://api.worldbank.org/v2/countries/br/indicators/NY.GDP.MKTP.CD?format=json&per_page=500&date=1990:2015')\n",
    "\n",
    "```\n",
    "\n",
    "The second way separate the base url and the parameters.\n",
    "\n",
    "```\n",
    "payload = {'format': 'json', 'per_page': '500', 'date':'1990:2015'}\n",
    "r = requests.get('http://api.worldbank.org/v2/countries/br/indicators/NY.GDP.MKTP.CD', params=payload)\n",
    "```\n",
    "\n",
    "Why use the second version? It's somewhat easier to write programs with the second version because you can easily change the values in the payload dictionary whereas the first version involves manipulating the url string.\n",
    "\n",
    "Run the code cell below to show that both versions give the same results."
   ]
  },
  {
   "cell_type": "code",
   "execution_count": 2,
   "metadata": {},
   "outputs": [
    {
     "data": {
      "text/plain": [
       "True"
      ]
     },
     "execution_count": 2,
     "metadata": {},
     "output_type": "execute_result"
    }
   ],
   "source": [
    "r_url = requests.get('http://api.worldbank.org/v2/countries/br/indicators/NY.GDP.MKTP.CD?format=json&per_page=500&date=1990:2015')\n",
    "\n",
    "payload = {'format': 'json', 'per_page': '500', 'date':'1990:2015'}\n",
    "r_payload = requests.get('http://api.worldbank.org/v2/countries/br/indicators/NY.GDP.MKTP.CD', params=payload)\n",
    "\n",
    "# Test if both results are the same string\n",
    "r_url.text == r_payload.text"
   ]
  },
  {
   "cell_type": "markdown",
   "metadata": {},
   "source": [
    "# Navigating the JSON response\n",
    "\n",
    "Once you have the data, what can you do with it? The requests library comes with a json decoder. In order to obtain the json response, all you have to do is use the .json() method like so:\n",
    "\n",
    "```\n",
    "payload = {'format': 'json', 'per_page': '500', 'date':'1990:2015'}\n",
    "r = requests.get('http://api.worldbank.org/v2/countries/br/indicators/NY.GDP.MKTP.CD', params=payload)\n",
    "r.json()\n",
    "```\n",
    "\n",
    "Run the cell below to see the results:"
   ]
  },
  {
   "cell_type": "code",
   "execution_count": 3,
   "metadata": {},
   "outputs": [
    {
     "data": {
      "text/plain": [
       "[{'page': 1,\n",
       "  'pages': 1,\n",
       "  'per_page': 500,\n",
       "  'total': 26,\n",
       "  'sourceid': '2',\n",
       "  'sourcename': 'World Development Indicators',\n",
       "  'lastupdated': '2021-12-16'},\n",
       " [{'indicator': {'id': 'NY.GDP.MKTP.CD', 'value': 'GDP (current US$)'},\n",
       "   'country': {'id': 'BR', 'value': 'Brazil'},\n",
       "   'countryiso3code': 'BRA',\n",
       "   'date': '2015',\n",
       "   'value': 1802211999538.68,\n",
       "   'unit': '',\n",
       "   'obs_status': '',\n",
       "   'decimal': 0},\n",
       "  {'indicator': {'id': 'NY.GDP.MKTP.CD', 'value': 'GDP (current US$)'},\n",
       "   'country': {'id': 'BR', 'value': 'Brazil'},\n",
       "   'countryiso3code': 'BRA',\n",
       "   'date': '2014',\n",
       "   'value': 2456043766028.73,\n",
       "   'unit': '',\n",
       "   'obs_status': '',\n",
       "   'decimal': 0},\n",
       "  {'indicator': {'id': 'NY.GDP.MKTP.CD', 'value': 'GDP (current US$)'},\n",
       "   'country': {'id': 'BR', 'value': 'Brazil'},\n",
       "   'countryiso3code': 'BRA',\n",
       "   'date': '2013',\n",
       "   'value': 2472819362216.69,\n",
       "   'unit': '',\n",
       "   'obs_status': '',\n",
       "   'decimal': 0},\n",
       "  {'indicator': {'id': 'NY.GDP.MKTP.CD', 'value': 'GDP (current US$)'},\n",
       "   'country': {'id': 'BR', 'value': 'Brazil'},\n",
       "   'countryiso3code': 'BRA',\n",
       "   'date': '2012',\n",
       "   'value': 2465228293894.01,\n",
       "   'unit': '',\n",
       "   'obs_status': '',\n",
       "   'decimal': 0},\n",
       "  {'indicator': {'id': 'NY.GDP.MKTP.CD', 'value': 'GDP (current US$)'},\n",
       "   'country': {'id': 'BR', 'value': 'Brazil'},\n",
       "   'countryiso3code': 'BRA',\n",
       "   'date': '2011',\n",
       "   'value': 2616156606666.62,\n",
       "   'unit': '',\n",
       "   'obs_status': '',\n",
       "   'decimal': 0},\n",
       "  {'indicator': {'id': 'NY.GDP.MKTP.CD', 'value': 'GDP (current US$)'},\n",
       "   'country': {'id': 'BR', 'value': 'Brazil'},\n",
       "   'countryiso3code': 'BRA',\n",
       "   'date': '2010',\n",
       "   'value': 2208838108577.09,\n",
       "   'unit': '',\n",
       "   'obs_status': '',\n",
       "   'decimal': 0},\n",
       "  {'indicator': {'id': 'NY.GDP.MKTP.CD', 'value': 'GDP (current US$)'},\n",
       "   'country': {'id': 'BR', 'value': 'Brazil'},\n",
       "   'countryiso3code': 'BRA',\n",
       "   'date': '2009',\n",
       "   'value': 1666996294372.87,\n",
       "   'unit': '',\n",
       "   'obs_status': '',\n",
       "   'decimal': 0},\n",
       "  {'indicator': {'id': 'NY.GDP.MKTP.CD', 'value': 'GDP (current US$)'},\n",
       "   'country': {'id': 'BR', 'value': 'Brazil'},\n",
       "   'countryiso3code': 'BRA',\n",
       "   'date': '2008',\n",
       "   'value': 1695855391810.9,\n",
       "   'unit': '',\n",
       "   'obs_status': '',\n",
       "   'decimal': 0},\n",
       "  {'indicator': {'id': 'NY.GDP.MKTP.CD', 'value': 'GDP (current US$)'},\n",
       "   'country': {'id': 'BR', 'value': 'Brazil'},\n",
       "   'countryiso3code': 'BRA',\n",
       "   'date': '2007',\n",
       "   'value': 1397114247331.17,\n",
       "   'unit': '',\n",
       "   'obs_status': '',\n",
       "   'decimal': 0},\n",
       "  {'indicator': {'id': 'NY.GDP.MKTP.CD', 'value': 'GDP (current US$)'},\n",
       "   'country': {'id': 'BR', 'value': 'Brazil'},\n",
       "   'countryiso3code': 'BRA',\n",
       "   'date': '2006',\n",
       "   'value': 1107626711406.63,\n",
       "   'unit': '',\n",
       "   'obs_status': '',\n",
       "   'decimal': 0},\n",
       "  {'indicator': {'id': 'NY.GDP.MKTP.CD', 'value': 'GDP (current US$)'},\n",
       "   'country': {'id': 'BR', 'value': 'Brazil'},\n",
       "   'countryiso3code': 'BRA',\n",
       "   'date': '2005',\n",
       "   'value': 891633826603.377,\n",
       "   'unit': '',\n",
       "   'obs_status': '',\n",
       "   'decimal': 0},\n",
       "  {'indicator': {'id': 'NY.GDP.MKTP.CD', 'value': 'GDP (current US$)'},\n",
       "   'country': {'id': 'BR', 'value': 'Brazil'},\n",
       "   'countryiso3code': 'BRA',\n",
       "   'date': '2004',\n",
       "   'value': 669289321944.516,\n",
       "   'unit': '',\n",
       "   'obs_status': '',\n",
       "   'decimal': 0},\n",
       "  {'indicator': {'id': 'NY.GDP.MKTP.CD', 'value': 'GDP (current US$)'},\n",
       "   'country': {'id': 'BR', 'value': 'Brazil'},\n",
       "   'countryiso3code': 'BRA',\n",
       "   'date': '2003',\n",
       "   'value': 558233724164.711,\n",
       "   'unit': '',\n",
       "   'obs_status': '',\n",
       "   'decimal': 0},\n",
       "  {'indicator': {'id': 'NY.GDP.MKTP.CD', 'value': 'GDP (current US$)'},\n",
       "   'country': {'id': 'BR', 'value': 'Brazil'},\n",
       "   'countryiso3code': 'BRA',\n",
       "   'date': '2002',\n",
       "   'value': 509795270685.19,\n",
       "   'unit': '',\n",
       "   'obs_status': '',\n",
       "   'decimal': 0},\n",
       "  {'indicator': {'id': 'NY.GDP.MKTP.CD', 'value': 'GDP (current US$)'},\n",
       "   'country': {'id': 'BR', 'value': 'Brazil'},\n",
       "   'countryiso3code': 'BRA',\n",
       "   'date': '2001',\n",
       "   'value': 559983704094.17,\n",
       "   'unit': '',\n",
       "   'obs_status': '',\n",
       "   'decimal': 0},\n",
       "  {'indicator': {'id': 'NY.GDP.MKTP.CD', 'value': 'GDP (current US$)'},\n",
       "   'country': {'id': 'BR', 'value': 'Brazil'},\n",
       "   'countryiso3code': 'BRA',\n",
       "   'date': '2000',\n",
       "   'value': 655448188259.351,\n",
       "   'unit': '',\n",
       "   'obs_status': '',\n",
       "   'decimal': 0},\n",
       "  {'indicator': {'id': 'NY.GDP.MKTP.CD', 'value': 'GDP (current US$)'},\n",
       "   'country': {'id': 'BR', 'value': 'Brazil'},\n",
       "   'countryiso3code': 'BRA',\n",
       "   'date': '1999',\n",
       "   'value': 599642075004.471,\n",
       "   'unit': '',\n",
       "   'obs_status': '',\n",
       "   'decimal': 0},\n",
       "  {'indicator': {'id': 'NY.GDP.MKTP.CD', 'value': 'GDP (current US$)'},\n",
       "   'country': {'id': 'BR', 'value': 'Brazil'},\n",
       "   'countryiso3code': 'BRA',\n",
       "   'date': '1998',\n",
       "   'value': 863711007325.493,\n",
       "   'unit': '',\n",
       "   'obs_status': '',\n",
       "   'decimal': 0},\n",
       "  {'indicator': {'id': 'NY.GDP.MKTP.CD', 'value': 'GDP (current US$)'},\n",
       "   'country': {'id': 'BR', 'value': 'Brazil'},\n",
       "   'countryiso3code': 'BRA',\n",
       "   'date': '1997',\n",
       "   'value': 883206452795.124,\n",
       "   'unit': '',\n",
       "   'obs_status': '',\n",
       "   'decimal': 0},\n",
       "  {'indicator': {'id': 'NY.GDP.MKTP.CD', 'value': 'GDP (current US$)'},\n",
       "   'country': {'id': 'BR', 'value': 'Brazil'},\n",
       "   'countryiso3code': 'BRA',\n",
       "   'date': '1996',\n",
       "   'value': 850426433004.077,\n",
       "   'unit': '',\n",
       "   'obs_status': '',\n",
       "   'decimal': 0},\n",
       "  {'indicator': {'id': 'NY.GDP.MKTP.CD', 'value': 'GDP (current US$)'},\n",
       "   'country': {'id': 'BR', 'value': 'Brazil'},\n",
       "   'countryiso3code': 'BRA',\n",
       "   'date': '1995',\n",
       "   'value': 769333330368.987,\n",
       "   'unit': '',\n",
       "   'obs_status': '',\n",
       "   'decimal': 0},\n",
       "  {'indicator': {'id': 'NY.GDP.MKTP.CD', 'value': 'GDP (current US$)'},\n",
       "   'country': {'id': 'BR', 'value': 'Brazil'},\n",
       "   'countryiso3code': 'BRA',\n",
       "   'date': '1994',\n",
       "   'value': 525369851353.742,\n",
       "   'unit': '',\n",
       "   'obs_status': '',\n",
       "   'decimal': 0},\n",
       "  {'indicator': {'id': 'NY.GDP.MKTP.CD', 'value': 'GDP (current US$)'},\n",
       "   'country': {'id': 'BR', 'value': 'Brazil'},\n",
       "   'countryiso3code': 'BRA',\n",
       "   'date': '1993',\n",
       "   'value': 368295777770.079,\n",
       "   'unit': '',\n",
       "   'obs_status': '',\n",
       "   'decimal': 0},\n",
       "  {'indicator': {'id': 'NY.GDP.MKTP.CD', 'value': 'GDP (current US$)'},\n",
       "   'country': {'id': 'BR', 'value': 'Brazil'},\n",
       "   'countryiso3code': 'BRA',\n",
       "   'date': '1992',\n",
       "   'value': 328187944300.908,\n",
       "   'unit': '',\n",
       "   'obs_status': '',\n",
       "   'decimal': 0},\n",
       "  {'indicator': {'id': 'NY.GDP.MKTP.CD', 'value': 'GDP (current US$)'},\n",
       "   'country': {'id': 'BR', 'value': 'Brazil'},\n",
       "   'countryiso3code': 'BRA',\n",
       "   'date': '1991',\n",
       "   'value': 342609227209.645,\n",
       "   'unit': '',\n",
       "   'obs_status': '',\n",
       "   'decimal': 0},\n",
       "  {'indicator': {'id': 'NY.GDP.MKTP.CD', 'value': 'GDP (current US$)'},\n",
       "   'country': {'id': 'BR', 'value': 'Brazil'},\n",
       "   'countryiso3code': 'BRA',\n",
       "   'date': '1990',\n",
       "   'value': 390725626002.866,\n",
       "   'unit': '',\n",
       "   'obs_status': '',\n",
       "   'decimal': 0}]]"
      ]
     },
     "execution_count": 3,
     "metadata": {},
     "output_type": "execute_result"
    }
   ],
   "source": [
    "payload = {'format': 'json', 'per_page': '500', 'date':'1990:2015'}\n",
    "r = requests.get('http://api.worldbank.org/v2/countries/br/indicators/NY.GDP.MKTP.CD', params=payload)\n",
    "r.json()"
   ]
  },
  {
   "cell_type": "markdown",
   "metadata": {},
   "source": [
    "The result is a list of json values, which you can iterate through to access all of the data. Every API will return data in a slightly different way, so you need to look at the data and figure out how to clean the data for your purposes. For example, in the json response, the first entry contains meta data about the results. The second entry is a list containing all of the data points. For the purposes of analyzing the data, you only need the second entry, which you can access with `r.json()[1]`. Run the code cells below to see an example of how to iterate through the data, clean the data, and then plot the results."
   ]
  },
  {
   "cell_type": "code",
   "execution_count": 4,
   "metadata": {},
   "outputs": [
    {
     "name": "stdout",
     "output_type": "stream",
     "text": [
      "Brazil\n",
      "[2015, 2014, 2013, 2012, 2011, 2010, 2009, 2008, 2007, 2006, 2005, 2004, 2003, 2002, 2001, 2000, 1999, 1998, 1997, 1996, 1995, 1994, 1993, 1992, 1991, 1990]\n",
      "[1802211999538.68, 2456043766028.73, 2472819362216.69, 2465228293894.01, 2616156606666.62, 2208838108577.09, 1666996294372.87, 1695855391810.9, 1397114247331.17, 1107626711406.63, 891633826603.377, 669289321944.516, 558233724164.711, 509795270685.19, 559983704094.17, 655448188259.351, 599642075004.471, 863711007325.493, 883206452795.124, 850426433004.077, 769333330368.987, 525369851353.742, 368295777770.079, 328187944300.908, 342609227209.645, 390725626002.866]\n",
      "\n",
      "\n",
      "China\n",
      "[2015, 2014, 2013, 2012, 2011, 2010, 2009, 2008, 2007, 2006, 2005, 2004, 2003, 2002, 2001, 2000, 1999, 1998, 1997, 1996, 1995, 1994, 1993, 1992, 1991, 1990]\n",
      "[11061553079871.5, 10475682920597.7, 9570406235659.64, 8532229986993.65, 7551500124197.17, 6087163874510.73, 5101703073088.97, 4594307032667.98, 3550342737009.53, 2752131773358.92, 2285965892364.2, 1955347004965.69, 1660287965663.89, 1470550015077.93, 1339395718862.89, 1211346869600.41, 1093997267277.1, 1029043097558.91, 961603952954.233, 863746717507.397, 734547898224.101, 564324670008.238, 444731282435.515, 426915712715.856, 383373318083.624, 360857912565.966]\n",
      "\n",
      "\n",
      "United States\n",
      "[2015, 2014, 2013, 2012, 2011, 2010, 2009, 2008, 2007, 2006, 2005, 2004, 2003, 2002, 2001, 2000, 1999, 1998, 1997, 1996, 1995, 1994, 1993, 1992, 1991, 1990]\n",
      "[18238300569000.0, 17527163695000.0, 16784849196000.0, 16197007349000.0, 15542581104000.0, 14992052727000.0, 14448933025000.0, 14712844084000.0, 14451858656000.0, 13814611414000.0, 13036640230000.0, 12213729147000.0, 11458243878000.0, 10936419054000.0, 10581821399000.0, 10252345464000.0, 9630664202000.0, 9062818202000.0, 8577554457000.0, 8073122000000.0, 7639749000000.0, 7287236000000.0, 6858559000000.0, 6520327000000.0, 6158129000000.0, 5963144000000.0]\n",
      "\n",
      "\n"
     ]
    }
   ],
   "source": [
    "# get the World Bank GDP data for Brazil, China and the United States\n",
    "payload = {'format': 'json', 'per_page': '500', 'date':'1990:2016'}\n",
    "r = requests.get('http://api.worldbank.org/v2/countries/br;cn;us/indicators/NY.GDP.MKTP.CD', params=payload)\n",
    "\n",
    "# put the results in a dictionary where each country contains a list of all the x values and all the y values\n",
    "# this will make it easier to plot the results\n",
    "from collections import defaultdict\n",
    "data = defaultdict(list)\n",
    "\n",
    "for entry in r.json()[1]:\n",
    "    # check if country is already in dictionary. If so, append the new x and y values to the lists\n",
    "    if data[entry['country']['value']]:\n",
    "        data[entry['country']['value']][0].append(int(entry['date']))\n",
    "        data[entry['country']['value']][1].append(float(entry['value']))       \n",
    "    else: # if country not in dictionary, then initialize the lists that will hold the x and y values\n",
    "        data[entry['country']['value']] = [[],[]] \n",
    "\n",
    "# show the results contained in the data dictionary\n",
    "for country in data:\n",
    "    print(country)\n",
    "    print(data[country][0])\n",
    "    print(data[country][1])\n",
    "    print('\\n')"
   ]
  },
  {
   "cell_type": "code",
   "execution_count": 5,
   "metadata": {},
   "outputs": [
    {
     "data": {
      "image/png": "[encoded data removed]",
      "text/plain": [
       "<Figure size 432x288 with 1 Axes>"
      ]
     },
     "metadata": {
      "needs_background": "light"
     },
     "output_type": "display_data"
    }
   ],
   "source": [
    "# visualize the results with matplotlib\n",
    "import matplotlib.pyplot as plt\n",
    "%matplotlib inline \n",
    "\n",
    "# create a plot for each country\n",
    "for country in data:\n",
    "    plt.plot(data[country][0], data[country][1], label=country)\n",
    "\n",
    "# label the plot\n",
    "plt.title('GDP for Brazil, China, and USA 1990 to 2015')\n",
    "plt.legend()\n",
    "plt.xlabel('year')\n",
    "plt.ylabel('GDP')\n",
    "plt.show()"
   ]
  },
  {
   "cell_type": "markdown",
   "metadata": {},
   "source": [
    "# Practice\n",
    "\n",
    "Here is a practice exercise for you to try out. Go to the World Bank data website found [here](https://data.worldbank.org/indicator) and find the `Population growth (annual %)` indicator. If you click on the indicator link, you'll see the indicator symbol in the web URL (hint it starts with \"SP\").\n",
    "\n",
    "Use the requests library to find the indicator values for China and India in the years 2013, 2014 and 2015. Put the results in a dictionary in this format:\n",
    "{country_name: [[2013, 2014, 2015], [value_2013, value_2014, value_2015]]}\n"
   ]
  },
  {
   "cell_type": "code",
   "execution_count": 6,
   "metadata": {},
   "outputs": [
    {
     "data": {
      "text/plain": [
       "defaultdict(list,\n",
       "            {'China': [['2015', '2014', '2013'],\n",
       "              [0.581456146657648, 0.630326389541893, 0.666072977690069]],\n",
       "             'India': [['2015', '2014', '2013'],\n",
       "              [1.11689591278599, 1.14567340150608, 1.18290421490412]]})"
      ]
     },
     "execution_count": 6,
     "metadata": {},
     "output_type": "execute_result"
    }
   ],
   "source": [
    "# TODO: assign parameters to a dictionary called payload.\n",
    "# Use the format parameter so that the request \n",
    "# returns data in the json format. \n",
    "# Use the date parameter to filter for the necessary years\n",
    "payload = {'format': 'json', 'per_page': 500, 'date': '2013:2016'}\n",
    "\n",
    "# TODO: write the request and put the results in the r variable\n",
    "r = requests.get('http://api.worldbank.org/v2/country/cn;in/indicator/SP.POP.GROW', params=payload)\n",
    "\n",
    "# TODO: store the results in a dictionary like in the previous example.\n",
    "# where each the dictionary keys are a country and the dictionary\n",
    "# values are lists of lists with the dates in one list and the values\n",
    "# in another list.\n",
    "from collections import defaultdict\n",
    "\n",
    "data = defaultdict(list)\n",
    "for entry in r.json()[1]:\n",
    "    if data[entry['country']['value']]:\n",
    "        data[entry['country']['value']][0].append(entry['date'])\n",
    "        data[entry['country']['value']][1].append(float(entry['value']))\n",
    "    else:\n",
    "        data[entry['country']['value']] = [[], []]\n",
    "        \n",
    "data"
   ]
  },
  {
   "cell_type": "code",
   "execution_count": 7,
   "metadata": {},
   "outputs": [
    {
     "data": {
      "text/plain": [
       "{'China': [['2015', '2014', '2013'],\n",
       "  [0.581456146657648, 0.630326389541893, 0.666072977690069]],\n",
       " 'India': [['2015', '2014', '2013'],\n",
       "  [1.11689591278599, 1.14567340150608, 1.18290421490412]]}"
      ]
     },
     "execution_count": 7,
     "metadata": {},
     "output_type": "execute_result"
    }
   ],
   "source": [
    "dict(data)"
   ]
  },
  {
   "cell_type": "markdown",
   "metadata": {},
   "source": [
    "If you did it correctly, you should get a dictionary with the following values:"
   ]
  },
  {
   "cell_type": "markdown",
   "metadata": {},
   "source": [
    "```\n",
    "{'China': [[2015, 2014, 2013],\n",
    "[0.508136747291937, 0.506311591779847, 0.49370963351136]],\n",
    "'India': [[2015, 2014, 2013],\n",
    "[1.16752707459156, 1.18932821143382, 1.21941894433091]]})\n",
    "```"
   ]
  },
  {
   "cell_type": "markdown",
   "metadata": {},
   "source": [
    "For a solution, go to the file menu in the workspace, click open, and choose the 'api_solution.py' file."
   ]
  },
  {
   "cell_type": "markdown",
   "metadata": {},
   "source": [
    "# Authentication\n",
    "\n",
    "The World Bank API does not require authentication; however, many API do require some sort of user authentication with a username and password that you need to send along with your request. The requests documentation gives the [basics of how to use authentication](http://docs.python-requests.org/en/master/user/authentication/) when sending a request.\n",
    "\n",
    "The Twitter API, for example, requires you to set up credentials. \n",
    "But before you get bogged down by the Twitter API documentation and authentication protocols, you might want to do an internet search for Python twitter libraries. Oftentimes, for the APIs of the big internet companies, someone has [built a library](https://developer.twitter.com/en/docs/developer-utilities/twitter-libraries.html) that makes it much easier to use the API."
   ]
  },
  {
   "cell_type": "code",
   "execution_count": null,
   "metadata": {},
   "outputs": [],
   "source": []
  }
 ],
 "metadata": {
  "kernelspec": {
   "display_name": "pipenv_world_bank_api",
   "language": "python",
   "name": "world_bank_api"
  },
  "language_info": {
   "codemirror_mode": {
    "name": "ipython",
    "version": 3
   },
   "file_extension": ".py",
   "mimetype": "text/x-python",
   "name": "python",
   "nbconvert_exporter": "python",
   "pygments_lexer": "ipython3",
   "version": "3.9.9"
  }
 },
 "nbformat": 4,
 "nbformat_minor": 4
}
